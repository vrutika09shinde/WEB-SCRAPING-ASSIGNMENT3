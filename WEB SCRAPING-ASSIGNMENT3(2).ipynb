{
 "cells": [
  {
   "cell_type": "markdown",
   "id": "45f49e06-07b4-47b0-a1cf-a4881473fff7",
   "metadata": {},
   "source": [
    "# ANS = 4"
   ]
  },
  {
   "cell_type": "code",
   "execution_count": 1,
   "id": "29373b5a-e2c4-474e-9d1a-3afca3f18d85",
   "metadata": {},
   "outputs": [
    {
     "name": "stdout",
     "output_type": "stream",
     "text": [
      "Requirement already satisfied: selenium in c:\\users\\admin\\anaconda3\\lib\\site-packages (4.23.1)\n",
      "Requirement already satisfied: urllib3[socks]<3,>=1.26 in c:\\users\\admin\\anaconda3\\lib\\site-packages (from selenium) (1.26.16)\n",
      "Requirement already satisfied: trio~=0.17 in c:\\users\\admin\\anaconda3\\lib\\site-packages (from selenium) (0.26.2)\n",
      "Requirement already satisfied: trio-websocket~=0.9 in c:\\users\\admin\\anaconda3\\lib\\site-packages (from selenium) (0.11.1)\n",
      "Requirement already satisfied: certifi>=2021.10.8 in c:\\users\\admin\\anaconda3\\lib\\site-packages (from selenium) (2023.11.17)\n",
      "Requirement already satisfied: typing_extensions~=4.9 in c:\\users\\admin\\anaconda3\\lib\\site-packages (from selenium) (4.12.2)\n",
      "Requirement already satisfied: websocket-client~=1.8 in c:\\users\\admin\\anaconda3\\lib\\site-packages (from selenium) (1.8.0)\n",
      "Requirement already satisfied: attrs>=23.2.0 in c:\\users\\admin\\anaconda3\\lib\\site-packages (from trio~=0.17->selenium) (24.2.0)\n",
      "Requirement already satisfied: sortedcontainers in c:\\users\\admin\\anaconda3\\lib\\site-packages (from trio~=0.17->selenium) (2.4.0)\n",
      "Requirement already satisfied: idna in c:\\users\\admin\\anaconda3\\lib\\site-packages (from trio~=0.17->selenium) (3.4)\n",
      "Requirement already satisfied: outcome in c:\\users\\admin\\anaconda3\\lib\\site-packages (from trio~=0.17->selenium) (1.3.0.post0)\n",
      "Requirement already satisfied: sniffio>=1.3.0 in c:\\users\\admin\\anaconda3\\lib\\site-packages (from trio~=0.17->selenium) (1.3.1)\n",
      "Requirement already satisfied: cffi>=1.14 in c:\\users\\admin\\anaconda3\\lib\\site-packages (from trio~=0.17->selenium) (1.15.1)\n",
      "Requirement already satisfied: wsproto>=0.14 in c:\\users\\admin\\anaconda3\\lib\\site-packages (from trio-websocket~=0.9->selenium) (1.2.0)\n",
      "Requirement already satisfied: PySocks!=1.5.7,<2.0,>=1.5.6 in c:\\users\\admin\\anaconda3\\lib\\site-packages (from urllib3[socks]<3,>=1.26->selenium) (1.7.1)\n",
      "Requirement already satisfied: pycparser in c:\\users\\admin\\anaconda3\\lib\\site-packages (from cffi>=1.14->trio~=0.17->selenium) (2.21)\n",
      "Requirement already satisfied: h11<1,>=0.9.0 in c:\\users\\admin\\anaconda3\\lib\\site-packages (from wsproto>=0.14->trio-websocket~=0.9->selenium) (0.14.0)\n"
     ]
    }
   ],
   "source": [
    "!pip install selenium"
   ]
  },
  {
   "cell_type": "code",
   "execution_count": 2,
   "id": "0fbc793a-1ace-438c-b847-615078c1882e",
   "metadata": {},
   "outputs": [],
   "source": [
    "import selenium\n",
    "import pandas as pd\n",
    "import time\n",
    "from bs4 import BeautifulSoup\n",
    "\n",
    "from selenium import webdriver\n",
    "\n",
    "from selenium.common.exceptions import StaleElementReferenceException\n",
    "from selenium.common.exceptions import NoSuchElementException\n",
    "\n",
    "import requests\n",
    "\n",
    "from selenium.webdriver.common.by import By\n",
    "\n"
   ]
  },
  {
   "cell_type": "code",
   "execution_count": 63,
   "id": "241caed8-598d-47c9-80f4-17155ba014d4",
   "metadata": {},
   "outputs": [],
   "source": [
    "driver =webdriver.Chrome()"
   ]
  },
  {
   "cell_type": "code",
   "execution_count": 41,
   "id": "fc1f17c2-efa1-4e74-934a-3fba56db122a",
   "metadata": {},
   "outputs": [],
   "source": [
    "driver.get('https://www.flipkart.com/')"
   ]
  },
  {
   "cell_type": "code",
   "execution_count": 42,
   "id": "d9bd9b3d-c9dc-426a-8ea1-0ac8ad618757",
   "metadata": {},
   "outputs": [],
   "source": [
    "item_bar =driver.find_element(By.XPATH,'//div[@class=\"_2SmNnR\"]/input')\n",
    "item_bar.send_keys(\"smartphone\")"
   ]
  },
  {
   "cell_type": "code",
   "execution_count": 43,
   "id": "cbee8977-b9ff-4b7e-acbd-6f18bb04b0b2",
   "metadata": {},
   "outputs": [],
   "source": [
    "search =driver.find_element(By.XPATH,'//div[@class=\"_1sFryS _2alaMB\"]/button')\n",
    "search.click()"
   ]
  },
  {
   "cell_type": "code",
   "execution_count": 44,
   "id": "64c30de6-675a-4ed4-b964-793fd2fe4700",
   "metadata": {},
   "outputs": [],
   "source": [
    "Brand_name =[]\n",
    "start=0\n",
    "end=1\n",
    "\n",
    "for page in range(start,end):\n",
    "    url = driver.find_elements(By.XPATH,'//div[@class=\"KzDlHZ\"]')\n",
    "    for i in url:\n",
    "        name =i.text\n",
    "        Brand_name.append(name)"
   ]
  },
  {
   "cell_type": "code",
   "execution_count": 45,
   "id": "54026bb9-af4d-4644-92cf-d512d325fe16",
   "metadata": {},
   "outputs": [
    {
     "name": "stdout",
     "output_type": "stream",
     "text": [
      "['vivo T3 Pro 5G (Emerald Green, 128 GB)', 'REDMI 12 (Moonstone Silver, 128 GB)', 'vivo T3 Lite 5G (Vibrant Green, 128 GB)', 'vivo T3 Lite 5G (Majestic Black, 128 GB)', 'vivo T3 Lite 5G (Majestic Black, 128 GB)', 'vivo T3 Lite 5G (Vibrant Green, 128 GB)', 'REDMI 13C (Stardust Black, 128 GB)', 'Motorola Edge 50 Fusion (Marshmallow Blue, 256 GB)', 'Motorola G85 5G (Olive Green, 256 GB)', 'Motorola G85 5G (Olive Green, 128 GB)', 'Motorola G85 5G (Cobalt Blue, 128 GB)', 'REDMI 13C (Starfrost White, 128 GB)', 'vivo T3x 5G (Crimson Bliss, 128 GB)', 'vivo T3x 5G (Celestial Green, 128 GB)', 'REDMI 13C (Starshine Green, 128 GB)', 'vivo T3x 5G (Crimson Bliss, 128 GB)', 'Motorola Edge 50 Fusion (Hot Pink, 256 GB)', 'vivo T3x 5G (Celestial Green, 128 GB)', 'vivo T3x 5G (Celestial Green, 128 GB)', 'Motorola g64 5G (Pearl Blue, 256 GB)', 'OnePlus Nord CE 3 Lite 5G (Chromatic Gray, 256 GB)', 'POCO C65 (Matte Black, 128 GB)', 'REDMI 12 (Jade Black, 128 GB)', 'OnePlus Nord CE 3 Lite 5G (Chromatic Gray, 128 GB)']\n"
     ]
    }
   ],
   "source": [
    "print(Brand_name)"
   ]
  },
  {
   "cell_type": "code",
   "execution_count": 46,
   "id": "a46597b5-ae9d-4fb6-b5bb-0df8e37176ae",
   "metadata": {},
   "outputs": [
    {
     "name": "stdout",
     "output_type": "stream",
     "text": [
      "24\n"
     ]
    }
   ],
   "source": [
    "print(len(Brand_name))"
   ]
  },
  {
   "cell_type": "code",
   "execution_count": 47,
   "id": "f138fffb-0293-485f-bcd4-446bbbb62922",
   "metadata": {},
   "outputs": [
    {
     "data": {
      "text/html": [
       "<div>\n",
       "<style scoped>\n",
       "    .dataframe tbody tr th:only-of-type {\n",
       "        vertical-align: middle;\n",
       "    }\n",
       "\n",
       "    .dataframe tbody tr th {\n",
       "        vertical-align: top;\n",
       "    }\n",
       "\n",
       "    .dataframe thead th {\n",
       "        text-align: right;\n",
       "    }\n",
       "</style>\n",
       "<table border=\"1\" class=\"dataframe\">\n",
       "  <thead>\n",
       "    <tr style=\"text-align: right;\">\n",
       "      <th></th>\n",
       "      <th>Brand_name</th>\n",
       "    </tr>\n",
       "  </thead>\n",
       "  <tbody>\n",
       "    <tr>\n",
       "      <th>0</th>\n",
       "      <td>vivo T3 Pro 5G (Emerald Green, 128 GB)</td>\n",
       "    </tr>\n",
       "    <tr>\n",
       "      <th>1</th>\n",
       "      <td>REDMI 12 (Moonstone Silver, 128 GB)</td>\n",
       "    </tr>\n",
       "    <tr>\n",
       "      <th>2</th>\n",
       "      <td>vivo T3 Lite 5G (Vibrant Green, 128 GB)</td>\n",
       "    </tr>\n",
       "    <tr>\n",
       "      <th>3</th>\n",
       "      <td>vivo T3 Lite 5G (Majestic Black, 128 GB)</td>\n",
       "    </tr>\n",
       "    <tr>\n",
       "      <th>4</th>\n",
       "      <td>vivo T3 Lite 5G (Majestic Black, 128 GB)</td>\n",
       "    </tr>\n",
       "    <tr>\n",
       "      <th>5</th>\n",
       "      <td>vivo T3 Lite 5G (Vibrant Green, 128 GB)</td>\n",
       "    </tr>\n",
       "    <tr>\n",
       "      <th>6</th>\n",
       "      <td>REDMI 13C (Stardust Black, 128 GB)</td>\n",
       "    </tr>\n",
       "    <tr>\n",
       "      <th>7</th>\n",
       "      <td>Motorola Edge 50 Fusion (Marshmallow Blue, 256...</td>\n",
       "    </tr>\n",
       "    <tr>\n",
       "      <th>8</th>\n",
       "      <td>Motorola G85 5G (Olive Green, 256 GB)</td>\n",
       "    </tr>\n",
       "    <tr>\n",
       "      <th>9</th>\n",
       "      <td>Motorola G85 5G (Olive Green, 128 GB)</td>\n",
       "    </tr>\n",
       "    <tr>\n",
       "      <th>10</th>\n",
       "      <td>Motorola G85 5G (Cobalt Blue, 128 GB)</td>\n",
       "    </tr>\n",
       "    <tr>\n",
       "      <th>11</th>\n",
       "      <td>REDMI 13C (Starfrost White, 128 GB)</td>\n",
       "    </tr>\n",
       "    <tr>\n",
       "      <th>12</th>\n",
       "      <td>vivo T3x 5G (Crimson Bliss, 128 GB)</td>\n",
       "    </tr>\n",
       "    <tr>\n",
       "      <th>13</th>\n",
       "      <td>vivo T3x 5G (Celestial Green, 128 GB)</td>\n",
       "    </tr>\n",
       "    <tr>\n",
       "      <th>14</th>\n",
       "      <td>REDMI 13C (Starshine Green, 128 GB)</td>\n",
       "    </tr>\n",
       "    <tr>\n",
       "      <th>15</th>\n",
       "      <td>vivo T3x 5G (Crimson Bliss, 128 GB)</td>\n",
       "    </tr>\n",
       "    <tr>\n",
       "      <th>16</th>\n",
       "      <td>Motorola Edge 50 Fusion (Hot Pink, 256 GB)</td>\n",
       "    </tr>\n",
       "    <tr>\n",
       "      <th>17</th>\n",
       "      <td>vivo T3x 5G (Celestial Green, 128 GB)</td>\n",
       "    </tr>\n",
       "    <tr>\n",
       "      <th>18</th>\n",
       "      <td>vivo T3x 5G (Celestial Green, 128 GB)</td>\n",
       "    </tr>\n",
       "    <tr>\n",
       "      <th>19</th>\n",
       "      <td>Motorola g64 5G (Pearl Blue, 256 GB)</td>\n",
       "    </tr>\n",
       "    <tr>\n",
       "      <th>20</th>\n",
       "      <td>OnePlus Nord CE 3 Lite 5G (Chromatic Gray, 256...</td>\n",
       "    </tr>\n",
       "    <tr>\n",
       "      <th>21</th>\n",
       "      <td>POCO C65 (Matte Black, 128 GB)</td>\n",
       "    </tr>\n",
       "    <tr>\n",
       "      <th>22</th>\n",
       "      <td>REDMI 12 (Jade Black, 128 GB)</td>\n",
       "    </tr>\n",
       "    <tr>\n",
       "      <th>23</th>\n",
       "      <td>OnePlus Nord CE 3 Lite 5G (Chromatic Gray, 128...</td>\n",
       "    </tr>\n",
       "  </tbody>\n",
       "</table>\n",
       "</div>"
      ],
      "text/plain": [
       "                                           Brand_name\n",
       "0              vivo T3 Pro 5G (Emerald Green, 128 GB)\n",
       "1                 REDMI 12 (Moonstone Silver, 128 GB)\n",
       "2             vivo T3 Lite 5G (Vibrant Green, 128 GB)\n",
       "3            vivo T3 Lite 5G (Majestic Black, 128 GB)\n",
       "4            vivo T3 Lite 5G (Majestic Black, 128 GB)\n",
       "5             vivo T3 Lite 5G (Vibrant Green, 128 GB)\n",
       "6                  REDMI 13C (Stardust Black, 128 GB)\n",
       "7   Motorola Edge 50 Fusion (Marshmallow Blue, 256...\n",
       "8               Motorola G85 5G (Olive Green, 256 GB)\n",
       "9               Motorola G85 5G (Olive Green, 128 GB)\n",
       "10              Motorola G85 5G (Cobalt Blue, 128 GB)\n",
       "11                REDMI 13C (Starfrost White, 128 GB)\n",
       "12                vivo T3x 5G (Crimson Bliss, 128 GB)\n",
       "13              vivo T3x 5G (Celestial Green, 128 GB)\n",
       "14                REDMI 13C (Starshine Green, 128 GB)\n",
       "15                vivo T3x 5G (Crimson Bliss, 128 GB)\n",
       "16         Motorola Edge 50 Fusion (Hot Pink, 256 GB)\n",
       "17              vivo T3x 5G (Celestial Green, 128 GB)\n",
       "18              vivo T3x 5G (Celestial Green, 128 GB)\n",
       "19               Motorola g64 5G (Pearl Blue, 256 GB)\n",
       "20  OnePlus Nord CE 3 Lite 5G (Chromatic Gray, 256...\n",
       "21                     POCO C65 (Matte Black, 128 GB)\n",
       "22                      REDMI 12 (Jade Black, 128 GB)\n",
       "23  OnePlus Nord CE 3 Lite 5G (Chromatic Gray, 128..."
      ]
     },
     "execution_count": 47,
     "metadata": {},
     "output_type": "execute_result"
    }
   ],
   "source": [
    "df = pd.DataFrame({'Brand_name':Brand_name})\n",
    "df"
   ]
  },
  {
   "cell_type": "code",
   "execution_count": 48,
   "id": "afc235ef-c150-41cb-b868-496a4bfac126",
   "metadata": {},
   "outputs": [],
   "source": [
    "price =[]\n",
    "\n",
    "start=0\n",
    "end=1\n",
    "\n",
    "for page in range(start,end):\n",
    "    url = driver.find_elements(By.XPATH,'//div[@class=\"Nx9bqj _4b5DiR\"]')\n",
    "    for i in url:\n",
    "        name =i.text\n",
    "        price.append(name)"
   ]
  },
  {
   "cell_type": "code",
   "execution_count": 49,
   "id": "ecb930ac-820e-4ee6-8d38-fd698e0135e5",
   "metadata": {},
   "outputs": [
    {
     "name": "stdout",
     "output_type": "stream",
     "text": [
      "24\n"
     ]
    }
   ],
   "source": [
    "print(len(price))"
   ]
  },
  {
   "cell_type": "code",
   "execution_count": 50,
   "id": "8c6e0b83-d4bc-4f13-b6ba-102600a8aa70",
   "metadata": {},
   "outputs": [
    {
     "data": {
      "text/html": [
       "<div>\n",
       "<style scoped>\n",
       "    .dataframe tbody tr th:only-of-type {\n",
       "        vertical-align: middle;\n",
       "    }\n",
       "\n",
       "    .dataframe tbody tr th {\n",
       "        vertical-align: top;\n",
       "    }\n",
       "\n",
       "    .dataframe thead th {\n",
       "        text-align: right;\n",
       "    }\n",
       "</style>\n",
       "<table border=\"1\" class=\"dataframe\">\n",
       "  <thead>\n",
       "    <tr style=\"text-align: right;\">\n",
       "      <th></th>\n",
       "      <th>price</th>\n",
       "    </tr>\n",
       "  </thead>\n",
       "  <tbody>\n",
       "    <tr>\n",
       "      <th>0</th>\n",
       "      <td>₹24,999</td>\n",
       "    </tr>\n",
       "    <tr>\n",
       "      <th>1</th>\n",
       "      <td>₹8,999</td>\n",
       "    </tr>\n",
       "    <tr>\n",
       "      <th>2</th>\n",
       "      <td>₹11,499</td>\n",
       "    </tr>\n",
       "    <tr>\n",
       "      <th>3</th>\n",
       "      <td>₹11,499</td>\n",
       "    </tr>\n",
       "    <tr>\n",
       "      <th>4</th>\n",
       "      <td>₹10,499</td>\n",
       "    </tr>\n",
       "    <tr>\n",
       "      <th>5</th>\n",
       "      <td>₹10,499</td>\n",
       "    </tr>\n",
       "    <tr>\n",
       "      <th>6</th>\n",
       "      <td>₹7,699</td>\n",
       "    </tr>\n",
       "    <tr>\n",
       "      <th>7</th>\n",
       "      <td>₹24,999</td>\n",
       "    </tr>\n",
       "    <tr>\n",
       "      <th>8</th>\n",
       "      <td>₹19,999</td>\n",
       "    </tr>\n",
       "    <tr>\n",
       "      <th>9</th>\n",
       "      <td>₹17,999</td>\n",
       "    </tr>\n",
       "    <tr>\n",
       "      <th>10</th>\n",
       "      <td>₹17,999</td>\n",
       "    </tr>\n",
       "    <tr>\n",
       "      <th>11</th>\n",
       "      <td>₹7,699</td>\n",
       "    </tr>\n",
       "    <tr>\n",
       "      <th>12</th>\n",
       "      <td>₹14,999</td>\n",
       "    </tr>\n",
       "    <tr>\n",
       "      <th>13</th>\n",
       "      <td>₹13,499</td>\n",
       "    </tr>\n",
       "    <tr>\n",
       "      <th>14</th>\n",
       "      <td>₹7,699</td>\n",
       "    </tr>\n",
       "    <tr>\n",
       "      <th>15</th>\n",
       "      <td>₹13,499</td>\n",
       "    </tr>\n",
       "    <tr>\n",
       "      <th>16</th>\n",
       "      <td>₹24,999</td>\n",
       "    </tr>\n",
       "    <tr>\n",
       "      <th>17</th>\n",
       "      <td>₹14,999</td>\n",
       "    </tr>\n",
       "    <tr>\n",
       "      <th>18</th>\n",
       "      <td>₹16,499</td>\n",
       "    </tr>\n",
       "    <tr>\n",
       "      <th>19</th>\n",
       "      <td>₹16,999</td>\n",
       "    </tr>\n",
       "    <tr>\n",
       "      <th>20</th>\n",
       "      <td>₹18,179</td>\n",
       "    </tr>\n",
       "    <tr>\n",
       "      <th>21</th>\n",
       "      <td>₹8,499</td>\n",
       "    </tr>\n",
       "    <tr>\n",
       "      <th>22</th>\n",
       "      <td>₹8,999</td>\n",
       "    </tr>\n",
       "    <tr>\n",
       "      <th>23</th>\n",
       "      <td>₹15,999</td>\n",
       "    </tr>\n",
       "  </tbody>\n",
       "</table>\n",
       "</div>"
      ],
      "text/plain": [
       "      price\n",
       "0   ₹24,999\n",
       "1    ₹8,999\n",
       "2   ₹11,499\n",
       "3   ₹11,499\n",
       "4   ₹10,499\n",
       "5   ₹10,499\n",
       "6    ₹7,699\n",
       "7   ₹24,999\n",
       "8   ₹19,999\n",
       "9   ₹17,999\n",
       "10  ₹17,999\n",
       "11   ₹7,699\n",
       "12  ₹14,999\n",
       "13  ₹13,499\n",
       "14   ₹7,699\n",
       "15  ₹13,499\n",
       "16  ₹24,999\n",
       "17  ₹14,999\n",
       "18  ₹16,499\n",
       "19  ₹16,999\n",
       "20  ₹18,179\n",
       "21   ₹8,499\n",
       "22   ₹8,999\n",
       "23  ₹15,999"
      ]
     },
     "execution_count": 50,
     "metadata": {},
     "output_type": "execute_result"
    }
   ],
   "source": [
    "df = pd.DataFrame({'price':price})\n",
    "df"
   ]
  },
  {
   "cell_type": "code",
   "execution_count": 51,
   "id": "32d1a140-0936-4d48-bd93-5907289c7f96",
   "metadata": {},
   "outputs": [],
   "source": [
    "Storage =[]\n",
    "start=0\n",
    "end=1\n",
    "\n",
    "for page in range(start,end):\n",
    "    url = driver.find_elements(By.XPATH,'//ul[@class=\"G4BRas\"]')\n",
    "    for i in url:\n",
    "        Storage.append(i.text)"
   ]
  },
  {
   "cell_type": "code",
   "execution_count": 52,
   "id": "6d5fe8f9-3d4e-428f-9852-b0b6b325ab38",
   "metadata": {},
   "outputs": [
    {
     "name": "stdout",
     "output_type": "stream",
     "text": [
      "['8 GB RAM | 128 GB ROM\\n17.2 cm (6.77 inch) Full HD+ AMOLED Display\\n50MP + 8MP | 16MP Front Camera\\n5500 mAh Battery\\nSnapdragon 7 Gen 3 Processor\\n1 Year Warranty on Handset and 6 Months Warranty on Accessories', '6 GB RAM | 128 GB ROM | Expandable Upto 1 TB\\n17.25 cm (6.79 inch) Full HD+ Display\\n50MP + 8MP + 2MP | 8MP Front Camera\\n5000 mAh Battery\\nHelio G88 Processor\\n1 Year Manufacturer Warranty for Phone and 6 Months Warranty for in the Box Accessories', '6 GB RAM | 128 GB ROM | Expandable Upto 1 TB\\n16.66 cm (6.56 inch) Display\\n50MP + 2MP | 8MP Front Camera\\n5000 mAh Battery\\nDimensity 6300 Processor\\n1 Year Manufacturer Warranty for Device and 6 Months Manufacturer Warranty for Inbox Accessories', '6 GB RAM | 128 GB ROM | Expandable Upto 1 TB\\n16.66 cm (6.56 inch) Display\\n50MP + 2MP | 8MP Front Camera\\n5000 mAh Battery\\nDimensity 6300 Processor\\n1 Year Manufacturer Warranty for Device and 6 Months Manufacturer Warranty for Inbox Accessories', '4 GB RAM | 128 GB ROM | Expandable Upto 1 TB\\n16.66 cm (6.56 inch) Display\\n50MP + 2MP | 8MP Front Camera\\n5000 mAh Battery\\nDimensity 6300 Processor\\n1 Year Manufacturer Warranty for Device and 6 Months Manufacturer Warranty for Inbox Accessories', '4 GB RAM | 128 GB ROM | Expandable Upto 1 TB\\n16.66 cm (6.56 inch) Display\\n50MP + 2MP | 8MP Front Camera\\n5000 mAh Battery\\nDimensity 6300 Processor\\n1 Year Manufacturer Warranty for Device and 6 Months Manufacturer Warranty for Inbox Accessories', '4 GB RAM | 128 GB ROM | Expandable Upto 1 TB\\n17.12 cm (6.74 inch) HD+ Display\\n50MP Rear Camera | 8MP Front Camera\\n5000 mAh Battery\\nHelio G85 Processor\\n1 Year Manufacturer Warranty for Phone and 6 Months Warranty for In the Box Accessories', '12 GB RAM | 256 GB ROM\\n17.02 cm (6.7 inch) Full HD+ Display\\n50MP + 13MP | 32MP Front Camera\\n5000 mAh Battery\\n7s Gen 2 Processor\\n1 Year on Handset and 6 Months on Accessories', '12 GB RAM | 256 GB ROM\\n16.94 cm (6.67 inch) Full HD+ Display\\n50MP + 8MP | 32MP Front Camera\\n5000 mAh Battery\\n6s Gen 3 Processor\\n1 Year on Handset and 6 Months on Accessories', '8 GB RAM | 128 GB ROM\\n16.94 cm (6.67 inch) Full HD+ Display\\n50MP + 8MP | 32MP Front Camera\\n5000 mAh Battery\\n6s Gen 3 Processor\\n1 Year on Handset and 6 Months on Accessories', '8 GB RAM | 128 GB ROM\\n16.94 cm (6.67 inch) Full HD+ Display\\n50MP + 8MP | 32MP Front Camera\\n5000 mAh Battery\\n6s Gen 3 Processor\\n1 Year on Handset and 6 Months on Accessories', '4 GB RAM | 128 GB ROM | Expandable Upto 1 TB\\n17.12 cm (6.74 inch) HD+ Display\\n50MP Rear Camera | 8MP Front Camera\\n5000 mAh Battery\\nHelio G85 Processor\\n1 Year Manufacturer Warranty for Phone and 6 Months Warranty for In the Box Accessories', '6 GB RAM | 128 GB ROM | Expandable Upto 1 TB\\n17.07 cm (6.72 inch) Full HD+ Display\\n50MP + 2MP | 8MP Front Camera\\n6000 mAh Battery\\n6 Gen 1 Processor\\n1 Year Manufacturer Warranty for Device and 6 Months Manufacturer Warranty for Inbox Accessories', '4 GB RAM | 128 GB ROM | Expandable Upto 1 TB\\n17.07 cm (6.72 inch) Full HD+ Display\\n50MP + 2MP | 8MP Front Camera\\n6000 mAh Battery\\n6 Gen 1 Processor\\n1 Year Manufacturer Warranty for Device and 6 Months Manufacturer Warranty for Inbox Accessories', '4 GB RAM | 128 GB ROM | Expandable Upto 1 TB\\n17.12 cm (6.74 inch) HD+ Display\\n50MP Rear Camera | 8MP Front Camera\\n5000 mAh Battery\\nHelio G85 Processor\\n1 Year Manufacturer Warranty for Phone and 6 Months Warranty for In the Box Accessories', '4 GB RAM | 128 GB ROM | Expandable Upto 1 TB\\n17.07 cm (6.72 inch) Full HD+ Display\\n50MP + 2MP | 8MP Front Camera\\n6000 mAh Battery\\n6 Gen 1 Processor\\n1 Year Manufacturer Warranty for Device and 6 Months Manufacturer Warranty for Inbox Accessories', '12 GB RAM | 256 GB ROM\\n17.02 cm (6.7 inch) Full HD+ Display\\n50MP + 13MP | 32MP Front Camera\\n5000 mAh Battery\\n7s Gen 2 Processor\\n1 Year on Handset and 6 Months on Accessories', '6 GB RAM | 128 GB ROM | Expandable Upto 1 TB\\n17.07 cm (6.72 inch) Full HD+ Display\\n50MP + 2MP | 8MP Front Camera\\n6000 mAh Battery\\n6 Gen 1 Processor\\n1 Year Manufacturer Warranty for Device and 6 Months Manufacturer Warranty for Inbox Accessories', '8 GB RAM | 128 GB ROM | Expandable Upto 1 TB\\n17.07 cm (6.72 inch) Full HD+ Display\\n50MP + 2MP | 8MP Front Camera\\n6000 mAh Battery\\n6 Gen 1 Processor\\n1 Year Manufacturer Warranty for Device and 6 Months Manufacturer Warranty for Inbox Accessories', '12 GB RAM | 256 GB ROM | Expandable Upto 1 TB\\n16.51 cm (6.5 inch) Full HD+ Display\\n50MP (OIS) + 8MP | 16MP Front Camera\\n6000 mAh Battery\\nDimensity 7025 Processor\\n1 Year on Handset and 6 Months on Accessories', '8 GB RAM | 256 GB ROM\\n17.07 cm (6.72 inch) Display\\n108MP Rear Camera\\n5000 mAh Battery\\nDomestic Warranty of 12 months on phone & 6 months on accessories', '4 GB RAM | 128 GB ROM | Expandable Upto 1 TB\\n17.12 cm (6.74 inch) HD+ Display\\n50MP + AI Lens + 2MP | 8MP Front Camera\\n5000 mAh Battery\\nHelio G85 Processor\\n1 Year Manufacturer Warranty for Phone and 6 Months Warranty for in the Box Accessories', '6 GB RAM | 128 GB ROM | Expandable Upto 1 TB\\n17.25 cm (6.79 inch) Full HD+ Display\\n50MP + 8MP + 2MP | 8MP Front Camera\\n5000 mAh Battery\\nHelio G88 Processor\\n1 Year Manufacturer Warranty for Phone and 6 Months Warranty for in the Box Accessories', '8 GB RAM | 128 GB ROM\\n17.07 cm (6.72 inch) Display\\n108MP Rear Camera\\n5000 mAh Battery\\nDomestic Warranty of 12 months on phone & 6 months on accessories']\n"
     ]
    }
   ],
   "source": [
    "print(Storage)"
   ]
  },
  {
   "cell_type": "code",
   "execution_count": 53,
   "id": "79b96a45-238b-48e8-99a6-77689abf3ad3",
   "metadata": {},
   "outputs": [
    {
     "data": {
      "text/html": [
       "<div>\n",
       "<style scoped>\n",
       "    .dataframe tbody tr th:only-of-type {\n",
       "        vertical-align: middle;\n",
       "    }\n",
       "\n",
       "    .dataframe tbody tr th {\n",
       "        vertical-align: top;\n",
       "    }\n",
       "\n",
       "    .dataframe thead th {\n",
       "        text-align: right;\n",
       "    }\n",
       "</style>\n",
       "<table border=\"1\" class=\"dataframe\">\n",
       "  <thead>\n",
       "    <tr style=\"text-align: right;\">\n",
       "      <th></th>\n",
       "      <th>Storage</th>\n",
       "    </tr>\n",
       "  </thead>\n",
       "  <tbody>\n",
       "    <tr>\n",
       "      <th>0</th>\n",
       "      <td>8 GB RAM | 128 GB ROM\\n17.2 cm (6.77 inch) Ful...</td>\n",
       "    </tr>\n",
       "    <tr>\n",
       "      <th>1</th>\n",
       "      <td>6 GB RAM | 128 GB ROM | Expandable Upto 1 TB\\n...</td>\n",
       "    </tr>\n",
       "    <tr>\n",
       "      <th>2</th>\n",
       "      <td>6 GB RAM | 128 GB ROM | Expandable Upto 1 TB\\n...</td>\n",
       "    </tr>\n",
       "    <tr>\n",
       "      <th>3</th>\n",
       "      <td>6 GB RAM | 128 GB ROM | Expandable Upto 1 TB\\n...</td>\n",
       "    </tr>\n",
       "    <tr>\n",
       "      <th>4</th>\n",
       "      <td>4 GB RAM | 128 GB ROM | Expandable Upto 1 TB\\n...</td>\n",
       "    </tr>\n",
       "    <tr>\n",
       "      <th>5</th>\n",
       "      <td>4 GB RAM | 128 GB ROM | Expandable Upto 1 TB\\n...</td>\n",
       "    </tr>\n",
       "    <tr>\n",
       "      <th>6</th>\n",
       "      <td>4 GB RAM | 128 GB ROM | Expandable Upto 1 TB\\n...</td>\n",
       "    </tr>\n",
       "    <tr>\n",
       "      <th>7</th>\n",
       "      <td>12 GB RAM | 256 GB ROM\\n17.02 cm (6.7 inch) Fu...</td>\n",
       "    </tr>\n",
       "    <tr>\n",
       "      <th>8</th>\n",
       "      <td>12 GB RAM | 256 GB ROM\\n16.94 cm (6.67 inch) F...</td>\n",
       "    </tr>\n",
       "    <tr>\n",
       "      <th>9</th>\n",
       "      <td>8 GB RAM | 128 GB ROM\\n16.94 cm (6.67 inch) Fu...</td>\n",
       "    </tr>\n",
       "    <tr>\n",
       "      <th>10</th>\n",
       "      <td>8 GB RAM | 128 GB ROM\\n16.94 cm (6.67 inch) Fu...</td>\n",
       "    </tr>\n",
       "    <tr>\n",
       "      <th>11</th>\n",
       "      <td>4 GB RAM | 128 GB ROM | Expandable Upto 1 TB\\n...</td>\n",
       "    </tr>\n",
       "    <tr>\n",
       "      <th>12</th>\n",
       "      <td>6 GB RAM | 128 GB ROM | Expandable Upto 1 TB\\n...</td>\n",
       "    </tr>\n",
       "    <tr>\n",
       "      <th>13</th>\n",
       "      <td>4 GB RAM | 128 GB ROM | Expandable Upto 1 TB\\n...</td>\n",
       "    </tr>\n",
       "    <tr>\n",
       "      <th>14</th>\n",
       "      <td>4 GB RAM | 128 GB ROM | Expandable Upto 1 TB\\n...</td>\n",
       "    </tr>\n",
       "    <tr>\n",
       "      <th>15</th>\n",
       "      <td>4 GB RAM | 128 GB ROM | Expandable Upto 1 TB\\n...</td>\n",
       "    </tr>\n",
       "    <tr>\n",
       "      <th>16</th>\n",
       "      <td>12 GB RAM | 256 GB ROM\\n17.02 cm (6.7 inch) Fu...</td>\n",
       "    </tr>\n",
       "    <tr>\n",
       "      <th>17</th>\n",
       "      <td>6 GB RAM | 128 GB ROM | Expandable Upto 1 TB\\n...</td>\n",
       "    </tr>\n",
       "    <tr>\n",
       "      <th>18</th>\n",
       "      <td>8 GB RAM | 128 GB ROM | Expandable Upto 1 TB\\n...</td>\n",
       "    </tr>\n",
       "    <tr>\n",
       "      <th>19</th>\n",
       "      <td>12 GB RAM | 256 GB ROM | Expandable Upto 1 TB\\...</td>\n",
       "    </tr>\n",
       "    <tr>\n",
       "      <th>20</th>\n",
       "      <td>8 GB RAM | 256 GB ROM\\n17.07 cm (6.72 inch) Di...</td>\n",
       "    </tr>\n",
       "    <tr>\n",
       "      <th>21</th>\n",
       "      <td>4 GB RAM | 128 GB ROM | Expandable Upto 1 TB\\n...</td>\n",
       "    </tr>\n",
       "    <tr>\n",
       "      <th>22</th>\n",
       "      <td>6 GB RAM | 128 GB ROM | Expandable Upto 1 TB\\n...</td>\n",
       "    </tr>\n",
       "    <tr>\n",
       "      <th>23</th>\n",
       "      <td>8 GB RAM | 128 GB ROM\\n17.07 cm (6.72 inch) Di...</td>\n",
       "    </tr>\n",
       "  </tbody>\n",
       "</table>\n",
       "</div>"
      ],
      "text/plain": [
       "                                              Storage\n",
       "0   8 GB RAM | 128 GB ROM\\n17.2 cm (6.77 inch) Ful...\n",
       "1   6 GB RAM | 128 GB ROM | Expandable Upto 1 TB\\n...\n",
       "2   6 GB RAM | 128 GB ROM | Expandable Upto 1 TB\\n...\n",
       "3   6 GB RAM | 128 GB ROM | Expandable Upto 1 TB\\n...\n",
       "4   4 GB RAM | 128 GB ROM | Expandable Upto 1 TB\\n...\n",
       "5   4 GB RAM | 128 GB ROM | Expandable Upto 1 TB\\n...\n",
       "6   4 GB RAM | 128 GB ROM | Expandable Upto 1 TB\\n...\n",
       "7   12 GB RAM | 256 GB ROM\\n17.02 cm (6.7 inch) Fu...\n",
       "8   12 GB RAM | 256 GB ROM\\n16.94 cm (6.67 inch) F...\n",
       "9   8 GB RAM | 128 GB ROM\\n16.94 cm (6.67 inch) Fu...\n",
       "10  8 GB RAM | 128 GB ROM\\n16.94 cm (6.67 inch) Fu...\n",
       "11  4 GB RAM | 128 GB ROM | Expandable Upto 1 TB\\n...\n",
       "12  6 GB RAM | 128 GB ROM | Expandable Upto 1 TB\\n...\n",
       "13  4 GB RAM | 128 GB ROM | Expandable Upto 1 TB\\n...\n",
       "14  4 GB RAM | 128 GB ROM | Expandable Upto 1 TB\\n...\n",
       "15  4 GB RAM | 128 GB ROM | Expandable Upto 1 TB\\n...\n",
       "16  12 GB RAM | 256 GB ROM\\n17.02 cm (6.7 inch) Fu...\n",
       "17  6 GB RAM | 128 GB ROM | Expandable Upto 1 TB\\n...\n",
       "18  8 GB RAM | 128 GB ROM | Expandable Upto 1 TB\\n...\n",
       "19  12 GB RAM | 256 GB ROM | Expandable Upto 1 TB\\...\n",
       "20  8 GB RAM | 256 GB ROM\\n17.07 cm (6.72 inch) Di...\n",
       "21  4 GB RAM | 128 GB ROM | Expandable Upto 1 TB\\n...\n",
       "22  6 GB RAM | 128 GB ROM | Expandable Upto 1 TB\\n...\n",
       "23  8 GB RAM | 128 GB ROM\\n17.07 cm (6.72 inch) Di..."
      ]
     },
     "execution_count": 53,
     "metadata": {},
     "output_type": "execute_result"
    }
   ],
   "source": [
    "df = pd.DataFrame({'Storage':Storage})\n",
    "df"
   ]
  },
  {
   "cell_type": "code",
   "execution_count": 54,
   "id": "196b2bd7-c39e-4cd0-b30c-5b3d562e7af2",
   "metadata": {},
   "outputs": [],
   "source": [
    "product_url =[]\n",
    "start=0\n",
    "end=1\n",
    "\n",
    "for page in range(start,end):\n",
    "    url = driver.find_elements(By.XPATH,'//img[@class=\"DByuf4\"]')\n",
    "    for i in url:\n",
    "        product_url.append(i.get_attribute('src'))"
   ]
  },
  {
   "cell_type": "code",
   "execution_count": 55,
   "id": "f9717693-8bb7-489a-bff7-3e780dc8acd5",
   "metadata": {},
   "outputs": [
    {
     "name": "stdout",
     "output_type": "stream",
     "text": [
      "29\n"
     ]
    }
   ],
   "source": [
    "print(len(product_url))"
   ]
  },
  {
   "cell_type": "code",
   "execution_count": 56,
   "id": "e821ebe3-187f-4f3b-a59b-40b52c741a0f",
   "metadata": {},
   "outputs": [],
   "source": [
    "import pandas as pd\n"
   ]
  },
  {
   "cell_type": "code",
   "execution_count": 57,
   "id": "5a55a000-6e83-4b80-9e0f-1be565482601",
   "metadata": {},
   "outputs": [],
   "source": [
    "#df = pd.DataFrame({'Brand_name':Brand_name,'price':price,'product_url':product_url})\n",
    "#df"
   ]
  },
  {
   "cell_type": "code",
   "execution_count": 58,
   "id": "53af00e1-5238-4d9e-be9a-448b12105a39",
   "metadata": {},
   "outputs": [
    {
     "data": {
      "text/html": [
       "<div>\n",
       "<style scoped>\n",
       "    .dataframe tbody tr th:only-of-type {\n",
       "        vertical-align: middle;\n",
       "    }\n",
       "\n",
       "    .dataframe tbody tr th {\n",
       "        vertical-align: top;\n",
       "    }\n",
       "\n",
       "    .dataframe thead th {\n",
       "        text-align: right;\n",
       "    }\n",
       "</style>\n",
       "<table border=\"1\" class=\"dataframe\">\n",
       "  <thead>\n",
       "    <tr style=\"text-align: right;\">\n",
       "      <th></th>\n",
       "      <th>product_url</th>\n",
       "    </tr>\n",
       "  </thead>\n",
       "  <tbody>\n",
       "    <tr>\n",
       "      <th>0</th>\n",
       "      <td>https://rukminim2.flixcart.com/image/312/312/x...</td>\n",
       "    </tr>\n",
       "    <tr>\n",
       "      <th>1</th>\n",
       "      <td>https://rukminim2.flixcart.com/image/312/312/x...</td>\n",
       "    </tr>\n",
       "    <tr>\n",
       "      <th>2</th>\n",
       "      <td>https://rukminim2.flixcart.com/image/312/312/x...</td>\n",
       "    </tr>\n",
       "    <tr>\n",
       "      <th>3</th>\n",
       "      <td>https://rukminim2.flixcart.com/image/312/312/x...</td>\n",
       "    </tr>\n",
       "    <tr>\n",
       "      <th>4</th>\n",
       "      <td>https://rukminim2.flixcart.com/image/312/312/x...</td>\n",
       "    </tr>\n",
       "    <tr>\n",
       "      <th>5</th>\n",
       "      <td>https://rukminim2.flixcart.com/image/312/312/x...</td>\n",
       "    </tr>\n",
       "    <tr>\n",
       "      <th>6</th>\n",
       "      <td>https://rukminim2.flixcart.com/image/312/312/x...</td>\n",
       "    </tr>\n",
       "    <tr>\n",
       "      <th>7</th>\n",
       "      <td>https://rukminim2.flixcart.com/image/312/312/x...</td>\n",
       "    </tr>\n",
       "    <tr>\n",
       "      <th>8</th>\n",
       "      <td>https://rukminim2.flixcart.com/image/312/312/x...</td>\n",
       "    </tr>\n",
       "    <tr>\n",
       "      <th>9</th>\n",
       "      <td>https://rukminim2.flixcart.com/image/312/312/x...</td>\n",
       "    </tr>\n",
       "    <tr>\n",
       "      <th>10</th>\n",
       "      <td>https://rukminim2.flixcart.com/image/312/312/x...</td>\n",
       "    </tr>\n",
       "    <tr>\n",
       "      <th>11</th>\n",
       "      <td>https://rukminim2.flixcart.com/image/312/312/x...</td>\n",
       "    </tr>\n",
       "    <tr>\n",
       "      <th>12</th>\n",
       "      <td>https://rukminim2.flixcart.com/image/312/312/x...</td>\n",
       "    </tr>\n",
       "    <tr>\n",
       "      <th>13</th>\n",
       "      <td>https://rukminim2.flixcart.com/image/312/312/x...</td>\n",
       "    </tr>\n",
       "    <tr>\n",
       "      <th>14</th>\n",
       "      <td>https://rukminim2.flixcart.com/image/312/312/x...</td>\n",
       "    </tr>\n",
       "    <tr>\n",
       "      <th>15</th>\n",
       "      <td>https://rukminim2.flixcart.com/image/312/312/x...</td>\n",
       "    </tr>\n",
       "    <tr>\n",
       "      <th>16</th>\n",
       "      <td>https://rukminim2.flixcart.com/image/312/312/x...</td>\n",
       "    </tr>\n",
       "    <tr>\n",
       "      <th>17</th>\n",
       "      <td>https://rukminim2.flixcart.com/image/312/312/x...</td>\n",
       "    </tr>\n",
       "    <tr>\n",
       "      <th>18</th>\n",
       "      <td>https://rukminim2.flixcart.com/image/312/312/x...</td>\n",
       "    </tr>\n",
       "    <tr>\n",
       "      <th>19</th>\n",
       "      <td>https://rukminim2.flixcart.com/image/312/312/x...</td>\n",
       "    </tr>\n",
       "    <tr>\n",
       "      <th>20</th>\n",
       "      <td>https://rukminim2.flixcart.com/image/312/312/x...</td>\n",
       "    </tr>\n",
       "    <tr>\n",
       "      <th>21</th>\n",
       "      <td>https://rukminim2.flixcart.com/image/312/312/x...</td>\n",
       "    </tr>\n",
       "    <tr>\n",
       "      <th>22</th>\n",
       "      <td>https://rukminim2.flixcart.com/image/312/312/x...</td>\n",
       "    </tr>\n",
       "    <tr>\n",
       "      <th>23</th>\n",
       "      <td>https://rukminim2.flixcart.com/image/312/312/x...</td>\n",
       "    </tr>\n",
       "  </tbody>\n",
       "</table>\n",
       "</div>"
      ],
      "text/plain": [
       "                                          product_url\n",
       "0   https://rukminim2.flixcart.com/image/312/312/x...\n",
       "1   https://rukminim2.flixcart.com/image/312/312/x...\n",
       "2   https://rukminim2.flixcart.com/image/312/312/x...\n",
       "3   https://rukminim2.flixcart.com/image/312/312/x...\n",
       "4   https://rukminim2.flixcart.com/image/312/312/x...\n",
       "5   https://rukminim2.flixcart.com/image/312/312/x...\n",
       "6   https://rukminim2.flixcart.com/image/312/312/x...\n",
       "7   https://rukminim2.flixcart.com/image/312/312/x...\n",
       "8   https://rukminim2.flixcart.com/image/312/312/x...\n",
       "9   https://rukminim2.flixcart.com/image/312/312/x...\n",
       "10  https://rukminim2.flixcart.com/image/312/312/x...\n",
       "11  https://rukminim2.flixcart.com/image/312/312/x...\n",
       "12  https://rukminim2.flixcart.com/image/312/312/x...\n",
       "13  https://rukminim2.flixcart.com/image/312/312/x...\n",
       "14  https://rukminim2.flixcart.com/image/312/312/x...\n",
       "15  https://rukminim2.flixcart.com/image/312/312/x...\n",
       "16  https://rukminim2.flixcart.com/image/312/312/x...\n",
       "17  https://rukminim2.flixcart.com/image/312/312/x...\n",
       "18  https://rukminim2.flixcart.com/image/312/312/x...\n",
       "19  https://rukminim2.flixcart.com/image/312/312/x...\n",
       "20  https://rukminim2.flixcart.com/image/312/312/x...\n",
       "21  https://rukminim2.flixcart.com/image/312/312/x...\n",
       "22  https://rukminim2.flixcart.com/image/312/312/x...\n",
       "23  https://rukminim2.flixcart.com/image/312/312/x..."
      ]
     },
     "execution_count": 58,
     "metadata": {},
     "output_type": "execute_result"
    }
   ],
   "source": [
    "DF = pd.DataFrame({'product_url':product_url})\n",
    "\n",
    "DF= DF.drop(DF.index[[24,25,26,27,28]],axis= 0 )\n",
    "DF"
   ]
  },
  {
   "cell_type": "markdown",
   "id": "3055433d-ffda-4c6d-a809-1c8931de43d6",
   "metadata": {},
   "source": [
    "# ANS NO.7"
   ]
  },
  {
   "cell_type": "code",
   "execution_count": 64,
   "id": "9b2a15ff-75bd-44e5-96a4-e7dc7f2af051",
   "metadata": {},
   "outputs": [],
   "source": [
    "driver.get('https://www.forbes.com/')"
   ]
  },
  {
   "cell_type": "code",
   "execution_count": 67,
   "id": "ae47a37c-6dfd-4ae2-8790-118f539db1ef",
   "metadata": {},
   "outputs": [
    {
     "name": "stdout",
     "output_type": "stream",
     "text": [
      "400\n"
     ]
    }
   ],
   "source": [
    "Rank =[]\n",
    "start=0\n",
    "end=1\n",
    "\n",
    "for page in range(start,end):\n",
    "    url = driver.find_elements(By.XPATH,'//div[@class=\"Table_rank__X4MKf\"]')\n",
    "    for i in url:\n",
    "        Rank.append(i.text)\n",
    "\n",
    "print(len(Rank))"
   ]
  },
  {
   "cell_type": "code",
   "execution_count": 71,
   "id": "bf67ff6d-697d-4d66-97f3-dc09bc5bdb9e",
   "metadata": {},
   "outputs": [
    {
     "name": "stdout",
     "output_type": "stream",
     "text": [
      "400\n"
     ]
    }
   ],
   "source": [
    "Name =[]\n",
    "start=0\n",
    "end=2\n",
    "\n",
    "for page in range(start,end):\n",
    "    url = driver.find_elements(By.XPATH,'//div[@class=\"Table_personName__Bus2E\"]')\n",
    "    for i in url:\n",
    "        Name.append(i.text)\n",
    "\n",
    "#next_button = driver.find_element(By.XPATH,'/html/body/div[1]/div[2]/div/div/div[3]/div[2]/div[2]/div/div[2]/div[27]/div[7]/div[1]/nav/div/button[7]/svg')\n",
    "#next_button.click()\n",
    "#time.sleep(3)\n",
    "print(len(Name))\n"
   ]
  },
  {
   "cell_type": "code",
   "execution_count": 73,
   "id": "139f5708-ca6d-40b5-9baa-bb40feb268ea",
   "metadata": {},
   "outputs": [
    {
     "name": "stdout",
     "output_type": "stream",
     "text": [
      "400\n"
     ]
    }
   ],
   "source": [
    "Networth =[]\n",
    "start=0\n",
    "end=2\n",
    "\n",
    "for page in range(start,end):\n",
    "    url = driver.find_elements(By.XPATH,'//div[@class=\"Table_finalWorth__UZA6k\"]/span')\n",
    "    for i in url:\n",
    "        Networth.append(i.text)\n",
    "\n",
    "print(len(Networth))"
   ]
  },
  {
   "cell_type": "code",
   "execution_count": 75,
   "id": "ad50e0a4-c42d-4d8d-aee4-1609f8ae2454",
   "metadata": {},
   "outputs": [
    {
     "name": "stdout",
     "output_type": "stream",
     "text": [
      "398\n"
     ]
    }
   ],
   "source": [
    "industry =[]\n",
    "start=0\n",
    "end=2\n",
    "\n",
    "for page in range(start,end):\n",
    "    url = driver.find_elements(By.XPATH,'//div[@class=\"Table_tableRow__lF_cY\"]')\n",
    "    for i in url:\n",
    "        industry.append(i.text)\n",
    "\n",
    "print(len(industry))"
   ]
  },
  {
   "cell_type": "code",
   "execution_count": 89,
   "id": "fc23559b-3e9d-4d8b-baf2-f7c8e690d451",
   "metadata": {},
   "outputs": [
    {
     "data": {
      "text/html": [
       "<div>\n",
       "<style scoped>\n",
       "    .dataframe tbody tr th:only-of-type {\n",
       "        vertical-align: middle;\n",
       "    }\n",
       "\n",
       "    .dataframe tbody tr th {\n",
       "        vertical-align: top;\n",
       "    }\n",
       "\n",
       "    .dataframe thead th {\n",
       "        text-align: right;\n",
       "    }\n",
       "</style>\n",
       "<table border=\"1\" class=\"dataframe\">\n",
       "  <thead>\n",
       "    <tr style=\"text-align: right;\">\n",
       "      <th></th>\n",
       "      <th>Rank</th>\n",
       "      <th>Name</th>\n",
       "      <th>Networth</th>\n",
       "    </tr>\n",
       "  </thead>\n",
       "  <tbody>\n",
       "    <tr>\n",
       "      <th>0</th>\n",
       "      <td>1.</td>\n",
       "      <td>Bernard Arnault &amp; family</td>\n",
       "      <td>$233 B</td>\n",
       "    </tr>\n",
       "    <tr>\n",
       "      <th>3</th>\n",
       "      <td>2.</td>\n",
       "      <td>Mark Zuckerberg</td>\n",
       "      <td>$177 B</td>\n",
       "    </tr>\n",
       "    <tr>\n",
       "      <th>4</th>\n",
       "      <td>3.</td>\n",
       "      <td>Larry Ellison</td>\n",
       "      <td>$141 B</td>\n",
       "    </tr>\n",
       "    <tr>\n",
       "      <th>5</th>\n",
       "      <td>3.</td>\n",
       "      <td>Warren Buffett</td>\n",
       "      <td>$133 B</td>\n",
       "    </tr>\n",
       "    <tr>\n",
       "      <th>6</th>\n",
       "      <td>4.</td>\n",
       "      <td>Bill Gates</td>\n",
       "      <td>$128 B</td>\n",
       "    </tr>\n",
       "    <tr>\n",
       "      <th>...</th>\n",
       "      <td>...</td>\n",
       "      <td>...</td>\n",
       "      <td>...</td>\n",
       "    </tr>\n",
       "    <tr>\n",
       "      <th>395</th>\n",
       "      <td>195.</td>\n",
       "      <td>Lei Jun</td>\n",
       "      <td>$10.9 B</td>\n",
       "    </tr>\n",
       "    <tr>\n",
       "      <th>396</th>\n",
       "      <td>199.</td>\n",
       "      <td>Georg Schaeffler</td>\n",
       "      <td>$10.9 B</td>\n",
       "    </tr>\n",
       "    <tr>\n",
       "      <th>397</th>\n",
       "      <td>199.</td>\n",
       "      <td>Marcel Herrmann Telles &amp; family</td>\n",
       "      <td>$10.9 B</td>\n",
       "    </tr>\n",
       "    <tr>\n",
       "      <th>398</th>\n",
       "      <td>200.</td>\n",
       "      <td>David Velez &amp; family</td>\n",
       "      <td>$10.8 B</td>\n",
       "    </tr>\n",
       "    <tr>\n",
       "      <th>399</th>\n",
       "      <td>200.</td>\n",
       "      <td>Suleiman Kerimov &amp; family</td>\n",
       "      <td>$10.7 B</td>\n",
       "    </tr>\n",
       "  </tbody>\n",
       "</table>\n",
       "<p>398 rows × 3 columns</p>\n",
       "</div>"
      ],
      "text/plain": [
       "     Rank                             Name Networth\n",
       "0      1.         Bernard Arnault & family   $233 B\n",
       "3      2.                  Mark Zuckerberg   $177 B\n",
       "4      3.                    Larry Ellison   $141 B\n",
       "5      3.                   Warren Buffett   $133 B\n",
       "6      4.                       Bill Gates   $128 B\n",
       "..    ...                              ...      ...\n",
       "395  195.                          Lei Jun  $10.9 B\n",
       "396  199.                 Georg Schaeffler  $10.9 B\n",
       "397  199.  Marcel Herrmann Telles & family  $10.9 B\n",
       "398  200.             David Velez & family  $10.8 B\n",
       "399  200.        Suleiman Kerimov & family  $10.7 B\n",
       "\n",
       "[398 rows x 3 columns]"
      ]
     },
     "execution_count": 89,
     "metadata": {},
     "output_type": "execute_result"
    }
   ],
   "source": [
    "df = pd.DataFrame({'Rank':Rank,'Name':Name,'Networth':Networth})\n",
    "df = df.drop(df.index[[1,2]],axis=0)\n",
    "df"
   ]
  },
  {
   "cell_type": "code",
   "execution_count": null,
   "id": "d363b937-723e-4191-b96a-b4da7d43ef62",
   "metadata": {},
   "outputs": [],
   "source": []
  },
  {
   "cell_type": "markdown",
   "id": "cd955bee-1647-48ef-8542-9b878a7ce051",
   "metadata": {},
   "source": [
    "# ANS = 5"
   ]
  },
  {
   "cell_type": "code",
   "execution_count": 80,
   "id": "14befdbd-4eb6-4e8f-a800-a73068197662",
   "metadata": {},
   "outputs": [
    {
     "name": "stdout",
     "output_type": "stream",
     "text": [
      "Collecting geopy\n",
      "  Obtaining dependency information for geopy from https://files.pythonhosted.org/packages/e5/15/cf2a69ade4b194aa524ac75112d5caac37414b20a3a03e6865dfe0bd1539/geopy-2.4.1-py3-none-any.whl.metadata\n",
      "  Downloading geopy-2.4.1-py3-none-any.whl.metadata (6.8 kB)\n",
      "Collecting geographiclib<3,>=1.52 (from geopy)\n",
      "  Obtaining dependency information for geographiclib<3,>=1.52 from https://files.pythonhosted.org/packages/9f/5a/a26132406f1f40cf51ea349a5f11b0a46cec02a2031ff82e391c2537247a/geographiclib-2.0-py3-none-any.whl.metadata\n",
      "  Downloading geographiclib-2.0-py3-none-any.whl.metadata (1.4 kB)\n",
      "Downloading geopy-2.4.1-py3-none-any.whl (125 kB)\n",
      "   ---------------------------------------- 0.0/125.4 kB ? eta -:--:--\n",
      "   --- ------------------------------------ 10.2/125.4 kB ? eta -:--:--\n",
      "   --------- ----------------------------- 30.7/125.4 kB 330.3 kB/s eta 0:00:01\n",
      "   ------------------- ------------------- 61.4/125.4 kB 469.7 kB/s eta 0:00:01\n",
      "   ---------------------------- ---------- 92.2/125.4 kB 585.1 kB/s eta 0:00:01\n",
      "   -------------------------------------  122.9/125.4 kB 481.4 kB/s eta 0:00:01\n",
      "   -------------------------------------  122.9/125.4 kB 481.4 kB/s eta 0:00:01\n",
      "   -------------------------------------- 125.4/125.4 kB 351.2 kB/s eta 0:00:00\n",
      "Downloading geographiclib-2.0-py3-none-any.whl (40 kB)\n",
      "   ---------------------------------------- 0.0/40.3 kB ? eta -:--:--\n",
      "   ---------------------------------------- 40.3/40.3 kB 970.5 kB/s eta 0:00:00\n",
      "Installing collected packages: geographiclib, geopy\n",
      "Successfully installed geographiclib-2.0 geopy-2.4.1\n"
     ]
    }
   ],
   "source": [
    "!pip install  geopy"
   ]
  },
  {
   "cell_type": "code",
   "execution_count": 82,
   "id": "783316c9-ff97-425e-add6-3036cfc47304",
   "metadata": {},
   "outputs": [],
   "source": [
    "from geopy.geocoders import ArcGIS "
   ]
  },
  {
   "cell_type": "code",
   "execution_count": 83,
   "id": "81005c30-8eae-4059-89a7-996ed9049252",
   "metadata": {},
   "outputs": [],
   "source": [
    "nom =ArcGIS()"
   ]
  },
  {
   "cell_type": "code",
   "execution_count": 84,
   "id": "cd96ad51-4ebf-4f6b-a444-18219aa8424e",
   "metadata": {},
   "outputs": [
    {
     "data": {
      "text/plain": [
       "Location(Ahmedabad, Gujarat, (23.0145096, 72.5917595, 0.0))"
      ]
     },
     "execution_count": 84,
     "metadata": {},
     "output_type": "execute_result"
    }
   ],
   "source": [
    "nom.geocode('Ahmedabad')"
   ]
  },
  {
   "cell_type": "markdown",
   "id": "76bf68bc-d843-400e-b67f-6c66fc5d0c94",
   "metadata": {},
   "source": [
    "# ANS = 6"
   ]
  },
  {
   "cell_type": "code",
   "execution_count": 91,
   "id": "74df16bb-ea23-4c7b-a804-953c601d62e8",
   "metadata": {},
   "outputs": [],
   "source": [
    "driver = webdriver.Chrome()"
   ]
  },
  {
   "cell_type": "code",
   "execution_count": 94,
   "id": "c08e4a01-1f21-40fc-b979-fdea342f9eae",
   "metadata": {},
   "outputs": [],
   "source": [
    "driver.get('https://www.digit.in/')"
   ]
  },
  {
   "cell_type": "code",
   "execution_count": 99,
   "id": "788e3751-4a2c-4d9d-a639-0b46442acb5f",
   "metadata": {},
   "outputs": [
    {
     "name": "stdout",
     "output_type": "stream",
     "text": [
      "['Acer ALG Gaming Laptop AL15G-52', 'HP Victus Gaming Laptop fa1373TX/fa1227TX', 'HP Victus 15 Gaming Laptop (AMD Ryzen 5600H + 16GB RAM)', 'Victus Gaming Laptop 15-fb0169ax', 'HP Victus Gaming Laptop 15 Fb1018Ax', 'HP Victus Gaming Laptop 15 fb2117AX', 'HP Victus Gaming Laptop 16-S0095Ax', 'HP OMEN Transcend Gaming Laptop 14-fb0089TX', 'Dell Alienware m18 R1 Gaming Laptop', 'HP Omen Gaming Laptop (16-xf0059AX)', 'HP Omen Gaming Laptop (16-wf1025TX)', 'HP OMEN Gaming Laptop 16 XD0007ax', 'Acer ALG Gaming Laptop AL15G-52', 'HP Victus Gaming Laptop fa1373TX/fa1227TX', 'HP Victus 15 Gaming Laptop (AMD Ryzen 5600H + 16GB RAM)', 'Victus Gaming Laptop 15-fb0169ax', 'HP Victus Gaming Laptop 15 Fb1018Ax', 'HP Victus Gaming Laptop 15 fb2117AX', 'HP Victus Gaming Laptop 16-S0095Ax', 'HP OMEN Transcend Gaming Laptop 14-fb0089TX', 'Dell Alienware m18 R1 Gaming Laptop', 'HP Omen Gaming Laptop (16-xf0059AX)', 'HP Omen Gaming Laptop (16-wf1025TX)', 'HP OMEN Gaming Laptop 16 XD0007ax']\n"
     ]
    }
   ],
   "source": [
    "laptop_name =[]\n",
    "start=0\n",
    "end=2\n",
    "\n",
    "for page in range(start,end):\n",
    "    url = driver.find_elements(By.XPATH,'//h3[@class=\" text-clamp text-clamp-2\"]/a')\n",
    "    for i in url:\n",
    "        laptop_name.append(i.text)\n",
    "\n",
    "print(laptop_name)"
   ]
  },
  {
   "cell_type": "code",
   "execution_count": 100,
   "id": "c0162aeb-92f9-4cd1-a6e1-44572bfb134a",
   "metadata": {},
   "outputs": [
    {
     "name": "stdout",
     "output_type": "stream",
     "text": [
      "['Rs. 62,949', 'Rs. 58,799', 'Rs. 61,990', 'Rs. 54,680', 'Rs. 56,480', 'Rs. 97,990', 'Rs. 79,800', 'Rs. 154,990', 'Rs. 451,190', 'Rs. 272', 'Rs. 272', 'Rs. 62,949', 'Rs. 58,799', 'Rs. 61,990', 'Rs. 54,680', 'Rs. 56,480', 'Rs. 97,990', 'Rs. 79,800', 'Rs. 154,990', 'Rs. 451,190', 'Rs. 272', 'Rs. 272']\n"
     ]
    }
   ],
   "source": [
    "laptop_price =[]\n",
    "start=0\n",
    "end=2\n",
    "\n",
    "for page in range(start,end):\n",
    "    url = driver.find_elements(By.XPATH,'//div[@class=\"cegg-price cegg-price-color cegg-price-instock\"]')\n",
    "    for i in url:\n",
    "        laptop_price.append(i.text)\n",
    "\n",
    "print(laptop_price)"
   ]
  },
  {
   "cell_type": "code",
   "execution_count": 102,
   "id": "77850be7-3d50-4f75-91d8-f8f865cddaae",
   "metadata": {},
   "outputs": [
    {
     "name": "stdout",
     "output_type": "stream",
     "text": [
      "['in stock', 'in stock', 'in stock', 'in stock', 'in stock', 'in stock', 'in stock', 'in stock', 'in stock', 'in stock', 'in stock', 'in stock', 'in stock', 'in stock', 'in stock', 'in stock', 'in stock', 'in stock', 'in stock', 'in stock', 'in stock', 'in stock']\n"
     ]
    }
   ],
   "source": [
    "laptop_stock =[]\n",
    "start=0\n",
    "end=2\n",
    "\n",
    "for page in range(start,end):\n",
    "    url = driver.find_elements(By.XPATH,'//div[@class=\"cegg-lineheight15 stock-status status-instock\"]')\n",
    "    for i in url:\n",
    "        laptop_stock.append(i.text)\n",
    "\n",
    "print(laptop_stock)"
   ]
  },
  {
   "cell_type": "markdown",
   "id": "1b7d747f-0520-4c9c-b2fe-45be20d0702c",
   "metadata": {},
   "source": [
    "# Ans = 9"
   ]
  },
  {
   "cell_type": "code",
   "execution_count": 127,
   "id": "09c7e144-e1ef-4bba-8afa-873dc16be79c",
   "metadata": {},
   "outputs": [],
   "source": [
    "driver = webdriver.Chrome()"
   ]
  },
  {
   "cell_type": "code",
   "execution_count": 104,
   "id": "f8fc212f-cd25-4bcb-ad41-130171034e78",
   "metadata": {},
   "outputs": [],
   "source": [
    "driver.get('https://www.hostelworld.com/')"
   ]
  },
  {
   "cell_type": "code",
   "execution_count": 113,
   "id": "4ec54541-031a-4bd2-b706-062f40b27ea4",
   "metadata": {},
   "outputs": [],
   "source": [
    "location =driver.find_element(By.XPATH,'//input[@class=\"native-input\"]')\n",
    "location.send_keys(\"London\")"
   ]
  },
  {
   "cell_type": "code",
   "execution_count": 116,
   "id": "edb71651-e56d-4182-94c1-74740eecb697",
   "metadata": {},
   "outputs": [],
   "source": [
    "search =driver.find_element(By.XPATH,'//button[@class=\"btn-content icon-only medium-button\"]')\n",
    "search.click()"
   ]
  },
  {
   "cell_type": "code",
   "execution_count": 117,
   "id": "8319563b-0876-4f82-a396-8e86c83c3d54",
   "metadata": {},
   "outputs": [
    {
     "name": "stdout",
     "output_type": "stream",
     "text": [
      "[\"Wombat's City Hostel London\", 'Palmers Lodge - Swiss Cottage', 'Urbany Hostel London', 'Onefam Waterloo', \"St Christopher's Village\", 'Generator London', 'Clink261', 'Astor Museum Inn', 'NX London Hostel', 'No.8 Seven Sisters', 'Destinations Hostels @ The Gallery', 'Hostelle - women only hostel London', 'Safestay London Kensington Holland Park', 'Safestay London Elephant & Castle', 'Smart Russell Square Hostel', 'Smart Camden Inn Hostel', 'Queen Elizabeth Chelsea', 'Saint James Backpackers', 'YHA London Oxford Street', 'Astor Hyde Park', 'London Backpackers', 'Barmy Badger Backpackers', 'Phoenix Hostel', 'Smart Hyde Park Inn Hostel', 'The Walrus Hostel', 'YHA London Central', 'Astor Victoria', \"St Christopher's Hammersmith\", 'Kabannas London St Pancras', \"St Christopher's Inn - Liverpool Street\"]\n"
     ]
    }
   ],
   "source": [
    "Hostel_name =[]\n",
    "start=0\n",
    "end=1\n",
    "\n",
    "for page in range(start,end):\n",
    "    url = driver.find_elements(By.XPATH,'//div[@class=\"property-name\"]/span')\n",
    "    for i in url:\n",
    "        Hostel_name.append(i.text)\n",
    "\n",
    "print(Hostel_name)"
   ]
  },
  {
   "cell_type": "code",
   "execution_count": 118,
   "id": "124981a5-cba0-4e8c-8a41-3afa6a8f6ceb",
   "metadata": {},
   "outputs": [
    {
     "name": "stdout",
     "output_type": "stream",
     "text": [
      "['8.7', '7.9', '8.4', '9.3', '8.7', '9.6', '9.2', '7.9', '7.0', '8.1', '8.8', '7.6', '7.6', '9.1', '8.4', '7.1', '6.9', '7.5', '8.7', '7.5', '8.1', '8.6', '7.8', '8.5', '9.2', '6.9', '7.6', '8.2', '8.5', '7.3', '7.7', '8.1', '8.4']\n"
     ]
    }
   ],
   "source": [
    "Hostel_rating =[]\n",
    "start=0\n",
    "end=1\n",
    "\n",
    "for page in range(start,end):\n",
    "    url = driver.find_elements(By.XPATH,'//span[@class=\"score\"]')\n",
    "    for i in url:\n",
    "        Hostel_rating.append(i.text)\n",
    "\n",
    "print(Hostel_rating)"
   ]
  },
  {
   "cell_type": "code",
   "execution_count": 119,
   "id": "5d5ecb05-421f-4963-92fa-a6ca2b7ba065",
   "metadata": {},
   "outputs": [
    {
     "name": "stdout",
     "output_type": "stream",
     "text": [
      "['Hostel\\n- 3.6km from city centre', 'Hostel\\n- 6.5km from city centre', 'Hostel\\n- 5.4km from city centre', 'Hostel\\n- 0.7km from city centre', 'Hostel\\n- 1.8km from city centre', 'Hostel\\n- 3km from city centre', 'Hostel\\n- 3.2km from city centre', 'Hostel\\n- 2.2km from city centre', 'Hostel\\n- 6.1km from city centre', 'Hostel\\n- 9km from city centre', 'Hostel\\n- 1.7km from city centre', 'Hostel\\n- 5.1km from city centre', 'Hostel\\n- 5.8km from city centre', 'Hostel\\n- 1.7km from city centre', 'Hostel\\n- 2.6km from city centre', 'Hostel\\n- 4.4km from city centre', 'Hostel\\n- 5.7km from city centre', 'Hostel\\n- 5.5km from city centre', 'Hostel\\n- 2.1km from city centre', 'Hostel\\n- 4.3km from city centre', 'Hostel\\n- 11.9km from city centre', 'Hostel\\n- 5.5km from city centre', 'Hostel\\n- 4.2km from city centre', 'Hostel\\n- 5km from city centre', 'Hostel\\n- 0.2km from city centre', 'Hostel\\n- 2.9km from city centre', 'Hostel\\n- 1.8km from city centre', 'Hostel\\n- 7.5km from city centre', 'Hostel\\n- 3.3km from city centre', 'Hostel\\n- 3.2km from city centre']\n"
     ]
    }
   ],
   "source": [
    "Hostel_distance =[]\n",
    "start=0\n",
    "end=1\n",
    "\n",
    "for page in range(start,end):\n",
    "    url = driver.find_elements(By.XPATH,'//div[@class=\"property-distance\"]')\n",
    "    for i in url:\n",
    "        Hostel_distance.append(i.text)\n",
    "\n",
    "print(Hostel_distance)"
   ]
  },
  {
   "cell_type": "code",
   "execution_count": 120,
   "id": "a5337f62-f3dc-4beb-b6e0-1bfccbfb56e6",
   "metadata": {},
   "outputs": [
    {
     "name": "stdout",
     "output_type": "stream",
     "text": [
      "['(16987)', '(16420)', '(1449)', '(491)', '(13261)', '(8459)', '(789)', '(9626)', '(2162)', '(4364)', '(435)', '(261)', '(1978)', '(5440)', '(10356)', '(3252)', '(3870)', '(2014)', '(4738)', '(12438)', '(4673)', '(2120)', '(4874)', '(6897)', '(4440)', '(4858)', '(15201)', '(4511)', '(3090)', '(608)']\n"
     ]
    }
   ],
   "source": [
    "total_review =[]\n",
    "start=0\n",
    "end=1\n",
    "\n",
    "for page in range(start,end):\n",
    "    url = driver.find_elements(By.XPATH,'//span[@class=\"num-reviews left-margin\"]')\n",
    "    for i in url:\n",
    "        total_review.append(i.text)\n",
    "\n",
    "print(total_review)"
   ]
  },
  {
   "cell_type": "code",
   "execution_count": 121,
   "id": "234201c6-2244-4e65-a044-c70b68f87e32",
   "metadata": {},
   "outputs": [
    {
     "name": "stdout",
     "output_type": "stream",
     "text": [
      "['Fabulous', 'Very Good', 'Fabulous', 'Superb', 'Fabulous', 'Superb', 'Superb', 'Very Good', 'Very Good', 'Fabulous', 'Fabulous', 'Very Good', 'Very Good', 'Superb', 'Fabulous', 'Very Good', 'Good', 'Very Good', 'Fabulous', 'Very Good', 'Fabulous', 'Fabulous', 'Very Good', 'Fabulous', 'Superb', 'Good', 'Very Good', 'Fabulous', 'Fabulous', 'Very Good', 'Very Good', 'Fabulous', 'Fabulous']\n"
     ]
    }
   ],
   "source": [
    "Overall_review =[]\n",
    "start=0\n",
    "end=1\n",
    "\n",
    "for page in range(start,end):\n",
    "    url = driver.find_elements(By.XPATH,'//span[@class=\"keyword\"]')\n",
    "    for i in url:\n",
    "        Overall_review.append(i.text)\n",
    "\n",
    "print(Overall_review)"
   ]
  },
  {
   "cell_type": "code",
   "execution_count": 136,
   "id": "7a0893ed-4e68-4807-9199-39999cfc204f",
   "metadata": {},
   "outputs": [
    {
     "name": "stdout",
     "output_type": "stream",
     "text": [
      "[]\n"
     ]
    }
   ],
   "source": [
    "Hostel_price =[]\n",
    "start=0\n",
    "end=1\n",
    "\n",
    "for page in range(start,end):\n",
    "    url = driver.find_elements(By.XPATH,'//div[@class=\"property-accommodations\"]')\n",
    "    for i in url:\n",
    "        Hos_price.append(i.text)\n",
    "\n",
    "print(dorms_price)"
   ]
  },
  {
   "cell_type": "markdown",
   "id": "352d8d6d-3b16-42e2-b944-14e05b60acb6",
   "metadata": {},
   "source": [
    "# ANS = 3"
   ]
  },
  {
   "cell_type": "code",
   "execution_count": 206,
   "id": "048212fb-0eb7-4d87-91ad-4343c09d3603",
   "metadata": {},
   "outputs": [],
   "source": [
    "driver = webdriver.Chrome()"
   ]
  },
  {
   "cell_type": "code",
   "execution_count": 207,
   "id": "7b55348d-afc2-4df0-8c84-474f6ce2ff09",
   "metadata": {},
   "outputs": [],
   "source": [
    "driver.get('https://www.Google.com/')"
   ]
  },
  {
   "cell_type": "code",
   "execution_count": 180,
   "id": "b4adb31a-77f4-4d45-b0c7-e8c7a4be1e99",
   "metadata": {},
   "outputs": [],
   "source": [
    "images =driver.find_element(By.XPATH,'//textarea[@class=\"gLFyf\"]')\n",
    "images.send_keys(\"Fruits images\")"
   ]
  },
  {
   "cell_type": "code",
   "execution_count": 181,
   "id": "c754a9c5-52ed-4e2c-9acf-bbf43b840997",
   "metadata": {},
   "outputs": [],
   "source": [
    "search =driver.find_element(By.XPATH,'//span[@class=\"QCzoEc z1asCe MZy1Rb\"]')\n",
    "search.click()"
   ]
  },
  {
   "cell_type": "code",
   "execution_count": 195,
   "id": "2bfb9000-7e2e-462e-baaf-961d2ef38c6e",
   "metadata": {},
   "outputs": [
    {
     "name": "stdout",
     "output_type": "stream",
     "text": [
      "[None, None, None, None, None, None, None, None, None, None, None, None]\n"
     ]
    }
   ],
   "source": [
    "fruits =[]\n",
    "start=0\n",
    "end=1\n",
    "\n",
    "for page in range(start,end):\n",
    "    url = driver.find_elements(By.XPATH,'//div[@class=\"czzyk XOEbc\"]')\n",
    "    for i in url:\n",
    "        fruits.append(i.get_attribute('src'))\n",
    "        \n",
    "print(fruits)"
   ]
  },
  {
   "cell_type": "code",
   "execution_count": 200,
   "id": "f8242b83-6d2e-4bdc-bcbb-2dffeed9e125",
   "metadata": {},
   "outputs": [
    {
     "data": {
      "text/html": [
       "<div>\n",
       "<style scoped>\n",
       "    .dataframe tbody tr th:only-of-type {\n",
       "        vertical-align: middle;\n",
       "    }\n",
       "\n",
       "    .dataframe tbody tr th {\n",
       "        vertical-align: top;\n",
       "    }\n",
       "\n",
       "    .dataframe thead th {\n",
       "        text-align: right;\n",
       "    }\n",
       "</style>\n",
       "<table border=\"1\" class=\"dataframe\">\n",
       "  <thead>\n",
       "    <tr style=\"text-align: right;\">\n",
       "      <th></th>\n",
       "      <th>fruits</th>\n",
       "    </tr>\n",
       "  </thead>\n",
       "  <tbody>\n",
       "    <tr>\n",
       "      <th>0</th>\n",
       "      <td>None</td>\n",
       "    </tr>\n",
       "    <tr>\n",
       "      <th>1</th>\n",
       "      <td>None</td>\n",
       "    </tr>\n",
       "    <tr>\n",
       "      <th>2</th>\n",
       "      <td>None</td>\n",
       "    </tr>\n",
       "    <tr>\n",
       "      <th>3</th>\n",
       "      <td>None</td>\n",
       "    </tr>\n",
       "    <tr>\n",
       "      <th>4</th>\n",
       "      <td>None</td>\n",
       "    </tr>\n",
       "    <tr>\n",
       "      <th>5</th>\n",
       "      <td>None</td>\n",
       "    </tr>\n",
       "    <tr>\n",
       "      <th>6</th>\n",
       "      <td>None</td>\n",
       "    </tr>\n",
       "    <tr>\n",
       "      <th>7</th>\n",
       "      <td>None</td>\n",
       "    </tr>\n",
       "    <tr>\n",
       "      <th>8</th>\n",
       "      <td>None</td>\n",
       "    </tr>\n",
       "    <tr>\n",
       "      <th>9</th>\n",
       "      <td>None</td>\n",
       "    </tr>\n",
       "    <tr>\n",
       "      <th>10</th>\n",
       "      <td>None</td>\n",
       "    </tr>\n",
       "  </tbody>\n",
       "</table>\n",
       "</div>"
      ],
      "text/plain": [
       "   fruits\n",
       "0    None\n",
       "1    None\n",
       "2    None\n",
       "3    None\n",
       "4    None\n",
       "5    None\n",
       "6    None\n",
       "7    None\n",
       "8    None\n",
       "9    None\n",
       "10   None"
      ]
     },
     "execution_count": 200,
     "metadata": {},
     "output_type": "execute_result"
    }
   ],
   "source": [
    "df = pd.DataFrame({'fruits':fruits})\n",
    "df.head(11)"
   ]
  },
  {
   "cell_type": "code",
   "execution_count": 196,
   "id": "e929501c-a53e-43e2-9d47-8120f3683d34",
   "metadata": {},
   "outputs": [],
   "source": [
    "images =driver.find_element(By.XPATH,'//textarea[@class=\"gLFyf\"]')\n",
    "images.send_keys(\"machine learning image\")"
   ]
  },
  {
   "cell_type": "code",
   "execution_count": 197,
   "id": "4bf185eb-3ddb-4a8f-91f3-0a4a29d4dfa5",
   "metadata": {},
   "outputs": [],
   "source": [
    "search =driver.find_element(By.XPATH,'//span[@class=\"QCzoEc z1asCe MZy1Rb\"]')\n",
    "search.click()"
   ]
  },
  {
   "cell_type": "code",
   "execution_count": 198,
   "id": "799d389b-5651-4b7b-9853-44152006970d",
   "metadata": {},
   "outputs": [
    {
     "name": "stdout",
     "output_type": "stream",
     "text": [
      "['data:image/jpeg;base64,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', 'data:image/jpeg;base64,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', 'data:image/jpeg;base64,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', 'data:image/jpeg;base64,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', 'data:image/jpeg;base64,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', 'data:image/jpeg;base64,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', 'data:image/jpeg;base64,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', 'data:image/jpeg;base64,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', 'data:image/gif;base64,R0lGODlhAQABAID/AMDAwAAAACH5BAEAAAAALAAAAAABAAEAAAICRAEAOw==', 'data:image/gif;base64,R0lGODlhAQABAID/AMDAwAAAACH5BAEAAAAALAAAAAABAAEAAAICRAEAOw==', 'data:image/gif;base64,R0lGODlhAQABAID/AMDAwAAAACH5BAEAAAAALAAAAAABAAEAAAICRAEAOw==', 'data:image/gif;base64,R0lGODlhAQABAID/AMDAwAAAACH5BAEAAAAALAAAAAABAAEAAAICRAEAOw==', 'data:image/gif;base64,R0lGODlhAQABAID/AMDAwAAAACH5BAEAAAAALAAAAAABAAEAAAICRAEAOw==', 'data:image/gif;base64,R0lGODlhAQABAID/AMDAwAAAACH5BAEAAAAALAAAAAABAAEAAAICRAEAOw==', 'data:image/gif;base64,R0lGODlhAQABAID/AMDAwAAAACH5BAEAAAAALAAAAAABAAEAAAICRAEAOw==', 'data:image/gif;base64,R0lGODlhAQABAID/AMDAwAAAACH5BAEAAAAALAAAAAABAAEAAAICRAEAOw==', 'data:image/gif;base64,R0lGODlhAQABAID/AMDAwAAAACH5BAEAAAAALAAAAAABAAEAAAICRAEAOw==', 'data:image/gif;base64,R0lGODlhAQABAID/AMDAwAAAACH5BAEAAAAALAAAAAABAAEAAAICRAEAOw==', 'data:image/gif;base64,R0lGODlhAQABAID/AMDAwAAAACH5BAEAAAAALAAAAAABAAEAAAICRAEAOw==', 'data:image/gif;base64,R0lGODlhAQABAID/AMDAwAAAACH5BAEAAAAALAAAAAABAAEAAAICRAEAOw==', 'data:image/gif;base64,R0lGODlhAQABAID/AMDAwAAAACH5BAEAAAAALAAAAAABAAEAAAICRAEAOw==', 'data:image/gif;base64,R0lGODlhAQABAID/AMDAwAAAACH5BAEAAAAALAAAAAABAAEAAAICRAEAOw==', 'data:image/gif;base64,R0lGODlhAQABAID/AMDAwAAAACH5BAEAAAAALAAAAAABAAEAAAICRAEAOw==', 'data:image/gif;base64,R0lGODlhAQABAID/AMDAwAAAACH5BAEAAAAALAAAAAABAAEAAAICRAEAOw==', 'data:image/gif;base64,R0lGODlhAQABAID/AMDAwAAAACH5BAEAAAAALAAAAAABAAEAAAICRAEAOw==', 'data:image/gif;base64,R0lGODlhAQABAID/AMDAwAAAACH5BAEAAAAALAAAAAABAAEAAAICRAEAOw==', 'data:image/gif;base64,R0lGODlhAQABAID/AMDAwAAAACH5BAEAAAAALAAAAAABAAEAAAICRAEAOw==', 'data:image/gif;base64,R0lGODlhAQABAID/AMDAwAAAACH5BAEAAAAALAAAAAABAAEAAAICRAEAOw==', 'data:image/gif;base64,R0lGODlhAQABAID/AMDAwAAAACH5BAEAAAAALAAAAAABAAEAAAICRAEAOw==', 'data:image/gif;base64,R0lGODlhAQABAID/AMDAwAAAACH5BAEAAAAALAAAAAABAAEAAAICRAEAOw==', 'data:image/gif;base64,R0lGODlhAQABAID/AMDAwAAAACH5BAEAAAAALAAAAAABAAEAAAICRAEAOw==', 'data:image/gif;base64,R0lGODlhAQABAID/AMDAwAAAACH5BAEAAAAALAAAAAABAAEAAAICRAEAOw==', 'data:image/gif;base64,R0lGODlhAQABAID/AMDAwAAAACH5BAEAAAAALAAAAAABAAEAAAICRAEAOw==', 'data:image/gif;base64,R0lGODlhAQABAID/AMDAwAAAACH5BAEAAAAALAAAAAABAAEAAAICRAEAOw==', 'data:image/gif;base64,R0lGODlhAQABAID/AMDAwAAAACH5BAEAAAAALAAAAAABAAEAAAICRAEAOw==', 'data:image/gif;base64,R0lGODlhAQABAID/AMDAwAAAACH5BAEAAAAALAAAAAABAAEAAAICRAEAOw==', 'data:image/gif;base64,R0lGODlhAQABAID/AMDAwAAAACH5BAEAAAAALAAAAAABAAEAAAICRAEAOw==', 'data:image/gif;base64,R0lGODlhAQABAID/AMDAwAAAACH5BAEAAAAALAAAAAABAAEAAAICRAEAOw==', 'data:image/gif;base64,R0lGODlhAQABAID/AMDAwAAAACH5BAEAAAAALAAAAAABAAEAAAICRAEAOw==']\n"
     ]
    }
   ],
   "source": [
    "Machine_Learning =[]\n",
    "\n",
    "start=0\n",
    "end=1\n",
    "\n",
    "for page in range(start,end):\n",
    "    url = driver.find_elements(By.XPATH,'//div[@class=\"uhHOwf BYbUcd\"]/img')\n",
    "    for i in url:\n",
    "        Machine_Learning.append(i.get_attribute('src'))\n",
    "\n",
    "print(Machine_Learning)"
   ]
  },
  {
   "cell_type": "code",
   "execution_count": 201,
   "id": "7ddeb4b4-c725-4500-88fe-5dc23952316d",
   "metadata": {},
   "outputs": [
    {
     "data": {
      "text/html": [
       "<div>\n",
       "<style scoped>\n",
       "    .dataframe tbody tr th:only-of-type {\n",
       "        vertical-align: middle;\n",
       "    }\n",
       "\n",
       "    .dataframe tbody tr th {\n",
       "        vertical-align: top;\n",
       "    }\n",
       "\n",
       "    .dataframe thead th {\n",
       "        text-align: right;\n",
       "    }\n",
       "</style>\n",
       "<table border=\"1\" class=\"dataframe\">\n",
       "  <thead>\n",
       "    <tr style=\"text-align: right;\">\n",
       "      <th></th>\n",
       "      <th>Machine_Learning</th>\n",
       "    </tr>\n",
       "  </thead>\n",
       "  <tbody>\n",
       "    <tr>\n",
       "      <th>0</th>\n",
       "      <td>data:image/jpeg;base64,/9j/4AAQSkZJRgABAQAAAQA...</td>\n",
       "    </tr>\n",
       "    <tr>\n",
       "      <th>1</th>\n",
       "      <td>data:image/jpeg;base64,/9j/4AAQSkZJRgABAQAAAQA...</td>\n",
       "    </tr>\n",
       "    <tr>\n",
       "      <th>2</th>\n",
       "      <td>data:image/jpeg;base64,/9j/4AAQSkZJRgABAQAAAQA...</td>\n",
       "    </tr>\n",
       "    <tr>\n",
       "      <th>3</th>\n",
       "      <td>data:image/jpeg;base64,/9j/4AAQSkZJRgABAQAAAQA...</td>\n",
       "    </tr>\n",
       "    <tr>\n",
       "      <th>4</th>\n",
       "      <td>data:image/jpeg;base64,/9j/4AAQSkZJRgABAQAAAQA...</td>\n",
       "    </tr>\n",
       "    <tr>\n",
       "      <th>5</th>\n",
       "      <td>data:image/jpeg;base64,/9j/4AAQSkZJRgABAQAAAQA...</td>\n",
       "    </tr>\n",
       "    <tr>\n",
       "      <th>6</th>\n",
       "      <td>data:image/jpeg;base64,/9j/4AAQSkZJRgABAQAAAQA...</td>\n",
       "    </tr>\n",
       "    <tr>\n",
       "      <th>7</th>\n",
       "      <td>data:image/jpeg;base64,/9j/4AAQSkZJRgABAQAAAQA...</td>\n",
       "    </tr>\n",
       "    <tr>\n",
       "      <th>8</th>\n",
       "      <td>data:image/gif;base64,R0lGODlhAQABAID/AMDAwAAA...</td>\n",
       "    </tr>\n",
       "    <tr>\n",
       "      <th>9</th>\n",
       "      <td>data:image/gif;base64,R0lGODlhAQABAID/AMDAwAAA...</td>\n",
       "    </tr>\n",
       "    <tr>\n",
       "      <th>10</th>\n",
       "      <td>data:image/gif;base64,R0lGODlhAQABAID/AMDAwAAA...</td>\n",
       "    </tr>\n",
       "  </tbody>\n",
       "</table>\n",
       "</div>"
      ],
      "text/plain": [
       "                                     Machine_Learning\n",
       "0   data:image/jpeg;base64,/9j/4AAQSkZJRgABAQAAAQA...\n",
       "1   data:image/jpeg;base64,/9j/4AAQSkZJRgABAQAAAQA...\n",
       "2   data:image/jpeg;base64,/9j/4AAQSkZJRgABAQAAAQA...\n",
       "3   data:image/jpeg;base64,/9j/4AAQSkZJRgABAQAAAQA...\n",
       "4   data:image/jpeg;base64,/9j/4AAQSkZJRgABAQAAAQA...\n",
       "5   data:image/jpeg;base64,/9j/4AAQSkZJRgABAQAAAQA...\n",
       "6   data:image/jpeg;base64,/9j/4AAQSkZJRgABAQAAAQA...\n",
       "7   data:image/jpeg;base64,/9j/4AAQSkZJRgABAQAAAQA...\n",
       "8   data:image/gif;base64,R0lGODlhAQABAID/AMDAwAAA...\n",
       "9   data:image/gif;base64,R0lGODlhAQABAID/AMDAwAAA...\n",
       "10  data:image/gif;base64,R0lGODlhAQABAID/AMDAwAAA..."
      ]
     },
     "execution_count": 201,
     "metadata": {},
     "output_type": "execute_result"
    }
   ],
   "source": [
    "df = pd.DataFrame({'Machine_Learning':Machine_Learning})\n",
    "df.head(11)"
   ]
  },
  {
   "cell_type": "code",
   "execution_count": 203,
   "id": "ff336b60-15eb-42c5-bb8e-3e052aab3bf6",
   "metadata": {},
   "outputs": [],
   "source": [
    "images =driver.find_element(By.XPATH,'//textarea[@class=\"gLFyf\"]')\n",
    "images.send_keys(\"cars images\")"
   ]
  },
  {
   "cell_type": "code",
   "execution_count": null,
   "id": "548ec78f-ab10-4c95-88d6-6cb69496fd11",
   "metadata": {},
   "outputs": [],
   "source": [
    "search =driver.find_element(By.XPATH,'//span[@class=\"QCzoEc z1asCe MZy1Rb\"]')\n",
    "search.click()"
   ]
  },
  {
   "cell_type": "code",
   "execution_count": 204,
   "id": "b07c6fd2-25ea-421b-a62d-f1e746da6d70",
   "metadata": {},
   "outputs": [
    {
     "name": "stdout",
     "output_type": "stream",
     "text": [
      "['data:image/jpeg;base64,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', 'data:image/jpeg;base64,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', 'data:image/jpeg;base64,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', 'data:image/jpeg;base64,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', 'data:image/jpeg;base64,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', 'data:image/jpeg;base64,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', 'data:image/jpeg;base64,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', 'data:image/jpeg;base64,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', 'data:image/jpeg;base64,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', 'data:image/gif;base64,R0lGODlhAQABAID/AMDAwAAAACH5BAEAAAAALAAAAAABAAEAAAICRAEAOw==', 'data:image/gif;base64,R0lGODlhAQABAID/AMDAwAAAACH5BAEAAAAALAAAAAABAAEAAAICRAEAOw==', 'data:image/gif;base64,R0lGODlhAQABAID/AMDAwAAAACH5BAEAAAAALAAAAAABAAEAAAICRAEAOw==', 'data:image/gif;base64,R0lGODlhAQABAID/AMDAwAAAACH5BAEAAAAALAAAAAABAAEAAAICRAEAOw==', 'data:image/gif;base64,R0lGODlhAQABAID/AMDAwAAAACH5BAEAAAAALAAAAAABAAEAAAICRAEAOw==', 'data:image/gif;base64,R0lGODlhAQABAID/AMDAwAAAACH5BAEAAAAALAAAAAABAAEAAAICRAEAOw==', 'data:image/gif;base64,R0lGODlhAQABAID/AMDAwAAAACH5BAEAAAAALAAAAAABAAEAAAICRAEAOw==', 'data:image/gif;base64,R0lGODlhAQABAID/AMDAwAAAACH5BAEAAAAALAAAAAABAAEAAAICRAEAOw==', 'data:image/gif;base64,R0lGODlhAQABAID/AMDAwAAAACH5BAEAAAAALAAAAAABAAEAAAICRAEAOw==', 'data:image/gif;base64,R0lGODlhAQABAID/AMDAwAAAACH5BAEAAAAALAAAAAABAAEAAAICRAEAOw==', 'data:image/gif;base64,R0lGODlhAQABAID/AMDAwAAAACH5BAEAAAAALAAAAAABAAEAAAICRAEAOw==', 'data:image/gif;base64,R0lGODlhAQABAID/AMDAwAAAACH5BAEAAAAALAAAAAABAAEAAAICRAEAOw==', 'data:image/gif;base64,R0lGODlhAQABAID/AMDAwAAAACH5BAEAAAAALAAAAAABAAEAAAICRAEAOw==', 'data:image/gif;base64,R0lGODlhAQABAID/AMDAwAAAACH5BAEAAAAALAAAAAABAAEAAAICRAEAOw==', 'data:image/gif;base64,R0lGODlhAQABAID/AMDAwAAAACH5BAEAAAAALAAAAAABAAEAAAICRAEAOw==', 'data:image/gif;base64,R0lGODlhAQABAID/AMDAwAAAACH5BAEAAAAALAAAAAABAAEAAAICRAEAOw==', 'data:image/gif;base64,R0lGODlhAQABAID/AMDAwAAAACH5BAEAAAAALAAAAAABAAEAAAICRAEAOw==', 'data:image/gif;base64,R0lGODlhAQABAID/AMDAwAAAACH5BAEAAAAALAAAAAABAAEAAAICRAEAOw==', 'data:image/gif;base64,R0lGODlhAQABAID/AMDAwAAAACH5BAEAAAAALAAAAAABAAEAAAICRAEAOw==', 'data:image/gif;base64,R0lGODlhAQABAID/AMDAwAAAACH5BAEAAAAALAAAAAABAAEAAAICRAEAOw==', 'data:image/gif;base64,R0lGODlhAQABAID/AMDAwAAAACH5BAEAAAAALAAAAAABAAEAAAICRAEAOw==', 'data:image/gif;base64,R0lGODlhAQABAID/AMDAwAAAACH5BAEAAAAALAAAAAABAAEAAAICRAEAOw==', 'data:image/gif;base64,R0lGODlhAQABAID/AMDAwAAAACH5BAEAAAAALAAAAAABAAEAAAICRAEAOw==', 'data:image/gif;base64,R0lGODlhAQABAID/AMDAwAAAACH5BAEAAAAALAAAAAABAAEAAAICRAEAOw==', 'data:image/gif;base64,R0lGODlhAQABAID/AMDAwAAAACH5BAEAAAAALAAAAAABAAEAAAICRAEAOw==', 'data:image/gif;base64,R0lGODlhAQABAID/AMDAwAAAACH5BAEAAAAALAAAAAABAAEAAAICRAEAOw==', 'data:image/gif;base64,R0lGODlhAQABAID/AMDAwAAAACH5BAEAAAAALAAAAAABAAEAAAICRAEAOw==']\n"
     ]
    }
   ],
   "source": [
    "cars_images =[]\n",
    "\n",
    "start=0\n",
    "end=1\n",
    "\n",
    "for page in range(start,end):\n",
    "    url = driver.find_elements(By.XPATH,'//div[@class=\"uhHOwf BYbUcd\"]/img')\n",
    "    for i in url:\n",
    "        cars_images.append(i.get_attribute('src'))\n",
    "\n",
    "print(cars_images)"
   ]
  },
  {
   "cell_type": "code",
   "execution_count": 205,
   "id": "562b1e64-6b80-4252-a008-d9b3e7388397",
   "metadata": {},
   "outputs": [
    {
     "data": {
      "text/html": [
       "<div>\n",
       "<style scoped>\n",
       "    .dataframe tbody tr th:only-of-type {\n",
       "        vertical-align: middle;\n",
       "    }\n",
       "\n",
       "    .dataframe tbody tr th {\n",
       "        vertical-align: top;\n",
       "    }\n",
       "\n",
       "    .dataframe thead th {\n",
       "        text-align: right;\n",
       "    }\n",
       "</style>\n",
       "<table border=\"1\" class=\"dataframe\">\n",
       "  <thead>\n",
       "    <tr style=\"text-align: right;\">\n",
       "      <th></th>\n",
       "      <th>cars_images</th>\n",
       "    </tr>\n",
       "  </thead>\n",
       "  <tbody>\n",
       "    <tr>\n",
       "      <th>0</th>\n",
       "      <td>data:image/jpeg;base64,/9j/4AAQSkZJRgABAQAAAQA...</td>\n",
       "    </tr>\n",
       "    <tr>\n",
       "      <th>1</th>\n",
       "      <td>data:image/jpeg;base64,/9j/4AAQSkZJRgABAQAAAQA...</td>\n",
       "    </tr>\n",
       "    <tr>\n",
       "      <th>2</th>\n",
       "      <td>data:image/jpeg;base64,/9j/4AAQSkZJRgABAQAAAQA...</td>\n",
       "    </tr>\n",
       "    <tr>\n",
       "      <th>3</th>\n",
       "      <td>data:image/jpeg;base64,/9j/4AAQSkZJRgABAQAAAQA...</td>\n",
       "    </tr>\n",
       "    <tr>\n",
       "      <th>4</th>\n",
       "      <td>data:image/jpeg;base64,/9j/4AAQSkZJRgABAQAAAQA...</td>\n",
       "    </tr>\n",
       "    <tr>\n",
       "      <th>5</th>\n",
       "      <td>data:image/jpeg;base64,/9j/4AAQSkZJRgABAQAAAQA...</td>\n",
       "    </tr>\n",
       "    <tr>\n",
       "      <th>6</th>\n",
       "      <td>data:image/jpeg;base64,/9j/4AAQSkZJRgABAQAAAQA...</td>\n",
       "    </tr>\n",
       "    <tr>\n",
       "      <th>7</th>\n",
       "      <td>data:image/jpeg;base64,/9j/4AAQSkZJRgABAQAAAQA...</td>\n",
       "    </tr>\n",
       "    <tr>\n",
       "      <th>8</th>\n",
       "      <td>data:image/jpeg;base64,/9j/4AAQSkZJRgABAQAAAQA...</td>\n",
       "    </tr>\n",
       "    <tr>\n",
       "      <th>9</th>\n",
       "      <td>data:image/gif;base64,R0lGODlhAQABAID/AMDAwAAA...</td>\n",
       "    </tr>\n",
       "    <tr>\n",
       "      <th>10</th>\n",
       "      <td>data:image/gif;base64,R0lGODlhAQABAID/AMDAwAAA...</td>\n",
       "    </tr>\n",
       "  </tbody>\n",
       "</table>\n",
       "</div>"
      ],
      "text/plain": [
       "                                          cars_images\n",
       "0   data:image/jpeg;base64,/9j/4AAQSkZJRgABAQAAAQA...\n",
       "1   data:image/jpeg;base64,/9j/4AAQSkZJRgABAQAAAQA...\n",
       "2   data:image/jpeg;base64,/9j/4AAQSkZJRgABAQAAAQA...\n",
       "3   data:image/jpeg;base64,/9j/4AAQSkZJRgABAQAAAQA...\n",
       "4   data:image/jpeg;base64,/9j/4AAQSkZJRgABAQAAAQA...\n",
       "5   data:image/jpeg;base64,/9j/4AAQSkZJRgABAQAAAQA...\n",
       "6   data:image/jpeg;base64,/9j/4AAQSkZJRgABAQAAAQA...\n",
       "7   data:image/jpeg;base64,/9j/4AAQSkZJRgABAQAAAQA...\n",
       "8   data:image/jpeg;base64,/9j/4AAQSkZJRgABAQAAAQA...\n",
       "9   data:image/gif;base64,R0lGODlhAQABAID/AMDAwAAA...\n",
       "10  data:image/gif;base64,R0lGODlhAQABAID/AMDAwAAA..."
      ]
     },
     "execution_count": 205,
     "metadata": {},
     "output_type": "execute_result"
    }
   ],
   "source": [
    "df = pd.DataFrame({'cars_images':cars_images})\n",
    "df.head(11)"
   ]
  },
  {
   "cell_type": "code",
   "execution_count": null,
   "id": "33461c5a-90c6-438f-8a99-4c4e83436251",
   "metadata": {},
   "outputs": [],
   "source": []
  },
  {
   "cell_type": "code",
   "execution_count": null,
   "id": "804d1fa3-2021-4302-b6d5-044e8f11b505",
   "metadata": {},
   "outputs": [],
   "source": []
  },
  {
   "cell_type": "code",
   "execution_count": 208,
   "id": "f665ee38-bcc0-487c-922e-424191c7b5df",
   "metadata": {},
   "outputs": [],
   "source": []
  },
  {
   "cell_type": "code",
   "execution_count": null,
   "id": "14a5b626-e811-47ea-8851-9abd31915bc8",
   "metadata": {},
   "outputs": [],
   "source": []
  },
  {
   "cell_type": "code",
   "execution_count": null,
   "id": "f68ece3a-5f0c-4d82-ac4d-fcdfd2a202fd",
   "metadata": {},
   "outputs": [],
   "source": []
  },
  {
   "cell_type": "code",
   "execution_count": null,
   "id": "63529051-2f6d-45f3-8266-e210b37391cf",
   "metadata": {},
   "outputs": [],
   "source": []
  },
  {
   "cell_type": "code",
   "execution_count": null,
   "id": "76c8b000-5820-4a8f-b8bb-260e32281ea9",
   "metadata": {},
   "outputs": [],
   "source": []
  },
  {
   "cell_type": "code",
   "execution_count": null,
   "id": "4b4b61f4-3e6d-4738-b060-fd120ac6bab5",
   "metadata": {},
   "outputs": [],
   "source": []
  }
 ],
 "metadata": {
  "kernelspec": {
   "display_name": "Python 3 (ipykernel)",
   "language": "python",
   "name": "python3"
  },
  "language_info": {
   "codemirror_mode": {
    "name": "ipython",
    "version": 3
   },
   "file_extension": ".py",
   "mimetype": "text/x-python",
   "name": "python",
   "nbconvert_exporter": "python",
   "pygments_lexer": "ipython3",
   "version": "3.11.5"
  }
 },
 "nbformat": 4,
 "nbformat_minor": 5
}
